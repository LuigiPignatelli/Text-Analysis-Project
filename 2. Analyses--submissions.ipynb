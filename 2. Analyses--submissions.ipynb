{
 "cells": [
  {
   "cell_type": "code",
   "execution_count": 19,
   "id": "02028932",
   "metadata": {},
   "outputs": [],
   "source": [
    "import pandas as pd\n",
    "import numpy as np"
   ]
  },
  {
   "cell_type": "code",
   "execution_count": 20,
   "id": "a5a45392",
   "metadata": {},
   "outputs": [],
   "source": [
    "df = pd.read_csv('./sorted_diagnosed-authors---submissions.csv')"
   ]
  },
  {
   "cell_type": "code",
   "execution_count": 21,
   "id": "b919b0a9",
   "metadata": {},
   "outputs": [],
   "source": [
    "del df['Unnamed: 0']\n",
    "# del df['num_comments']"
   ]
  },
  {
   "cell_type": "code",
   "execution_count": 22,
   "id": "d4ccafe7",
   "metadata": {},
   "outputs": [],
   "source": [
    "df['date'] = pd.to_datetime(df['date'])"
   ]
  },
  {
   "cell_type": "code",
   "execution_count": 5,
   "id": "a8f03477",
   "metadata": {
    "collapsed": true
   },
   "outputs": [
    {
     "data": {
      "text/html": [
       "<div>\n",
       "<style scoped>\n",
       "    .dataframe tbody tr th:only-of-type {\n",
       "        vertical-align: middle;\n",
       "    }\n",
       "\n",
       "    .dataframe tbody tr th {\n",
       "        vertical-align: top;\n",
       "    }\n",
       "\n",
       "    .dataframe thead th {\n",
       "        text-align: right;\n",
       "    }\n",
       "</style>\n",
       "<table border=\"1\" class=\"dataframe\">\n",
       "  <thead>\n",
       "    <tr style=\"text-align: right;\">\n",
       "      <th></th>\n",
       "      <th>author</th>\n",
       "      <th>num_comments</th>\n",
       "      <th>selftext</th>\n",
       "      <th>date</th>\n",
       "    </tr>\n",
       "  </thead>\n",
       "  <tbody>\n",
       "    <tr>\n",
       "      <th>0</th>\n",
       "      <td>27_emilys</td>\n",
       "      <td>1</td>\n",
       "      <td>My depression gives me these extremely irratio...</td>\n",
       "      <td>2018-03-15</td>\n",
       "    </tr>\n",
       "    <tr>\n",
       "      <th>1</th>\n",
       "      <td>27_emilys</td>\n",
       "      <td>20</td>\n",
       "      <td>I could lay here for hours, or even all day. I...</td>\n",
       "      <td>2018-03-22</td>\n",
       "    </tr>\n",
       "    <tr>\n",
       "      <th>2</th>\n",
       "      <td>27_emilys</td>\n",
       "      <td>0</td>\n",
       "      <td>I've never really cared much for Easter, but I...</td>\n",
       "      <td>2018-04-01</td>\n",
       "    </tr>\n",
       "    <tr>\n",
       "      <th>3</th>\n",
       "      <td>27_emilys</td>\n",
       "      <td>7</td>\n",
       "      <td>I've been extremely depressed for the past 3-4...</td>\n",
       "      <td>2018-04-10</td>\n",
       "    </tr>\n",
       "    <tr>\n",
       "      <th>4</th>\n",
       "      <td>27_emilys</td>\n",
       "      <td>7</td>\n",
       "      <td>What was the \"final straw?\" What made you deci...</td>\n",
       "      <td>2018-04-18</td>\n",
       "    </tr>\n",
       "  </tbody>\n",
       "</table>\n",
       "</div>"
      ],
      "text/plain": [
       "      author  num_comments                                           selftext  \\\n",
       "0  27_emilys             1  My depression gives me these extremely irratio...   \n",
       "1  27_emilys            20  I could lay here for hours, or even all day. I...   \n",
       "2  27_emilys             0  I've never really cared much for Easter, but I...   \n",
       "3  27_emilys             7  I've been extremely depressed for the past 3-4...   \n",
       "4  27_emilys             7  What was the \"final straw?\" What made you deci...   \n",
       "\n",
       "        date  \n",
       "0 2018-03-15  \n",
       "1 2018-03-22  \n",
       "2 2018-04-01  \n",
       "3 2018-04-10  \n",
       "4 2018-04-18  "
      ]
     },
     "execution_count": 5,
     "metadata": {},
     "output_type": "execute_result"
    }
   ],
   "source": [
    "df.head()"
   ]
  },
  {
   "cell_type": "code",
   "execution_count": 6,
   "id": "22848aa6",
   "metadata": {
    "scrolled": true
   },
   "outputs": [
    {
     "data": {
      "text/plain": [
       "589"
      ]
     },
     "execution_count": 6,
     "metadata": {},
     "output_type": "execute_result"
    }
   ],
   "source": [
    "len(df)"
   ]
  },
  {
   "cell_type": "markdown",
   "id": "e8fd347b",
   "metadata": {},
   "source": [
    "# posts' length and average per user"
   ]
  },
  {
   "cell_type": "code",
   "execution_count": 23,
   "id": "cbcfd903",
   "metadata": {},
   "outputs": [],
   "source": [
    "from statistics import mean"
   ]
  },
  {
   "cell_type": "code",
   "execution_count": 6,
   "id": "18cceded",
   "metadata": {},
   "outputs": [
    {
     "name": "stdout",
     "output_type": "stream",
     "text": [
      "{'Ap-a-live': 4287, 'Burneracct1270': 5734, 'CubistIvy': 19341, 'DeeGeeG': 8628, 'DonRawiri': 7712, 'DrewDaPrince': 6880, 'FiatLux831': 6063, 'Ganjanthegr33n': 9761, 'GrumpyPanda13': 18722, 'Ilac21': 10255, 'LadyAwesome713': 23074, 'Roadmapsforthesoul': 6084, 'anxious-wreck': 68793, 'clinically-stoopid': 2221, 'curly_fry_queen': 7270, 'diemortalthotticus': 4629, 'dreaminginkyoto': 2796, 'fairykingz': 3817, 'israelipita': 5939, 'jahsehswife': 4694, 'justanotherdude1988': 4699, 'lalalwhjsj': 3916, 'lotusGirlyGirl': 11135, 'paladin_omega78': 6879, 'rachzilla555': 4186, 'rosy_maplemoth': 3732, 'sparkledstar23': 6593, 'taddysad': 6020, 'throwaway755403': 17174, 'versacek9': 23258, 'vvvrrrttt': 30088, 'Mordcrest': 21603, 'Mtaskofa': 11411, 'Wendy_Clear': 18928, 'Lauraanthony209': 76311, 'dreworbuskeridunno': 25564, 'Generic_Userboi': 8476, 'xxmilktea': 5523, 'Melchior94': 12583, 'Planetof12': 14424, 'itsmealvise': 9819}\n"
     ]
    }
   ],
   "source": [
    "user_words = {}\n",
    "\n",
    "for i,a,c,s,d in df.itertuples():\n",
    "    if a not in user_words:\n",
    "        user_words[a] = len(s)\n",
    "    else:\n",
    "        user_words[a] += len(s)\n",
    "\n",
    "print(user_words)"
   ]
  },
  {
   "cell_type": "code",
   "execution_count": 9,
   "id": "5c956e74",
   "metadata": {},
   "outputs": [
    {
     "name": "stdout",
     "output_type": "stream",
     "text": [
      "This dataset contains 0 posts below 2000\n"
     ]
    }
   ],
   "source": [
    "below = []\n",
    "THRESHOLD = 2000\n",
    "\n",
    "for user in user_words:\n",
    "    if user_words[user] <= THRESHOLD:\n",
    "        below.append(user)\n",
    "print(f\"This dataset contains {len(below)} posts below {THRESHOLD}\")\n",
    "\n",
    "# BOTH DATASETS --> This dataset contains 0 posts below 2000"
   ]
  },
  {
   "cell_type": "code",
   "execution_count": 10,
   "id": "ac261c46",
   "metadata": {
    "collapsed": true
   },
   "outputs": [
    {
     "name": "stdout",
     "output_type": "stream",
     "text": [
      "{'27_emilys': 506.46, 'AcademicTrash__': 2360.62, 'Alexapro_': 664.57, 'AnonymousPerson001': 300.71, 'ArialB': 585.33, 'Mozartmoonlight': 1138.67, 'OliSoul': 927.41, 'Peacefighter1': 187.97, 'Plastic_book': 869, 'ReddyReddit91': 820.25, 'Richte36': 741.32, 'SirAmbigious': 346.4, 'SirReadsALot92': 319.14, 'TheLifeisgood72': 1062.2, 'ToyboxOfThoughts': 650.17, 'Yvanne': 663.41, 'Zonta1': 280.9, 'iliterallydontexist': 578.11, 'indieidealist': 600.6, 'ineedanewthrowawy': 816.8, 'jfruedam': 2697.4, 'justignoreme003': 225, 'myliferollercoaster': 815.59, 'overwhelmed13': 786.25, 'perfectcontrarian': 516.4, 'shiberino18': 305, 'sweetztheloli': 924.6, 'witchofthewoods89': 281.51, 'AllergicToChicken69': 540.33, 'RayDelMar_0': 1223.27}\n"
     ]
    }
   ],
   "source": [
    "# CREATE A DICTIONARY OF USERS AND OVERALL LENGTH OF THEIR POSTS\n",
    "authors = {}\n",
    "\n",
    "for i,a,c,s,d in df.itertuples():\n",
    "    if a not in authors:\n",
    "        length = []\n",
    "        authors[a] = length\n",
    "    else:\n",
    "        length.append(len(s))\n",
    "\n",
    "\n",
    "# REPLACE THE VALUES WITH THE AVERAGE\n",
    "post_average_length = {}\n",
    "\n",
    "for user in authors:\n",
    "    if user not in post_average_length:\n",
    "        post_average_length[user] = round(mean(authors[user]),2)\n",
    "\n",
    "print(post_average_length)"
   ]
  },
  {
   "cell_type": "code",
   "execution_count": 30,
   "id": "efbf6dd6",
   "metadata": {},
   "outputs": [],
   "source": [
    "def average_length(corpus):\n",
    "    length = [len(post) for post in corpus]\n",
    "    return round(mean(length),2), sum(length)"
   ]
  },
  {
   "cell_type": "code",
   "execution_count": 14,
   "id": "7aec647e",
   "metadata": {},
   "outputs": [
    {
     "data": {
      "text/plain": [
       "(612.21, 360590)"
      ]
     },
     "execution_count": 14,
     "metadata": {},
     "output_type": "execute_result"
    }
   ],
   "source": [
    "# DATASET AVERAGE LENGHT\n",
    "average_length(df['selftext'])\n",
    "\n",
    "# DEPRESSED\n",
    "# (932.13, 549022)\n",
    "\n",
    "# NOT DEPRESSED\n",
    "# (612.21, 360590)"
   ]
  },
  {
   "cell_type": "markdown",
   "id": "99fe9a1c",
   "metadata": {},
   "source": [
    "# text pre-processing"
   ]
  },
  {
   "cell_type": "code",
   "execution_count": 24,
   "id": "8013ee85",
   "metadata": {},
   "outputs": [],
   "source": [
    "import custom_text_normalizer as tn"
   ]
  },
  {
   "cell_type": "code",
   "execution_count": 25,
   "id": "728d0865",
   "metadata": {},
   "outputs": [],
   "source": [
    "normalized_corpus = tn.normalize_corpus(df['selftext'])\n",
    "# df['norm_text'] = [post for post in normalized_corpus]"
   ]
  },
  {
   "cell_type": "code",
   "execution_count": 9,
   "id": "fb685f06",
   "metadata": {},
   "outputs": [
    {
     "name": "stdout",
     "output_type": "stream",
     "text": [
      "total post: 589\n"
     ]
    }
   ],
   "source": [
    "print(f\"total post: {len(normalized_corpus)}\")\n",
    "# diagnosed --> total post: 589\n",
    "# not depressed/diagnosed --> total post: 591"
   ]
  },
  {
   "cell_type": "code",
   "execution_count": 33,
   "id": "5c341741",
   "metadata": {},
   "outputs": [
    {
     "name": "stdout",
     "output_type": "stream",
     "text": [
      "total user: 41\n"
     ]
    }
   ],
   "source": [
    "authors = []\n",
    "for user in df['author']:\n",
    "    if user not in authors:\n",
    "        authors.append(user)\n",
    "        \n",
    "print(f\"total user: {len(authors)}\")\n",
    "\n",
    "# diagnosed --> total user 41\n",
    "# not diagnosed --> total user: 30"
   ]
  },
  {
   "cell_type": "code",
   "execution_count": 20,
   "id": "5ef72488",
   "metadata": {
    "collapsed": true
   },
   "outputs": [
    {
     "name": "stdout",
     "output_type": "stream",
     "text": [
      "['27_emilys', 'AcademicTrash__', 'Alexapro_', 'AnonymousPerson001', 'ArialB', 'Mozartmoonlight', 'OliSoul', 'Peacefighter1', 'Plastic_book', 'ReddyReddit91', 'Richte36', 'SirAmbigious', 'SirReadsALot92', 'TheLifeisgood72', 'ToyboxOfThoughts', 'Yvanne', 'Zonta1', 'iliterallydontexist', 'indieidealist', 'ineedanewthrowawy', 'jfruedam', 'justignoreme003', 'myliferollercoaster', 'overwhelmed13', 'perfectcontrarian', 'shiberino18', 'sweetztheloli', 'witchofthewoods89', 'AllergicToChicken69', 'RayDelMar_0']\n"
     ]
    }
   ],
   "source": [
    "print(authors)"
   ]
  },
  {
   "cell_type": "markdown",
   "id": "4413e9d3",
   "metadata": {},
   "source": [
    "# sentiment analysis"
   ]
  },
  {
   "cell_type": "code",
   "execution_count": 26,
   "id": "fe00597a",
   "metadata": {},
   "outputs": [],
   "source": [
    "import nltk\n",
    "from nltk.sentiment.vader import SentimentIntensityAnalyzer\n",
    "from statistics import mean"
   ]
  },
  {
   "cell_type": "code",
   "execution_count": 27,
   "id": "d67f4502",
   "metadata": {},
   "outputs": [],
   "source": [
    "def get_sentiment(text):\n",
    "    \n",
    "    \"\"\" \n",
    "    Apply this function on single sentences.\n",
    "    It returns a compound score\n",
    "    \"\"\"\n",
    "    \n",
    "    analyzer = SentimentIntensityAnalyzer()\n",
    "    score = analyzer.polarity_scores(text)['compound']\n",
    "    \n",
    "    return round(score,3)"
   ]
  },
  {
   "cell_type": "code",
   "execution_count": 28,
   "id": "e390b977",
   "metadata": {},
   "outputs": [],
   "source": [
    "def average_sentiment(text):\n",
    "    \n",
    "    \"\"\" \n",
    "    Apply this function on full text to analyze each sentence. \n",
    "    It returns the mean sentiment for that text\n",
    "    \"\"\"\n",
    "    \n",
    "    sentences = nltk.sent_tokenize(text)\n",
    "    \n",
    "    if len(sentences) > 1:\n",
    "        score = [get_sentiment(sent) for sent in sentences]\n",
    "        return round(mean(score),3)\n",
    "    return get_sentiment(text)"
   ]
  },
  {
   "cell_type": "code",
   "execution_count": 29,
   "id": "7d16fdbe",
   "metadata": {},
   "outputs": [],
   "source": [
    "df['senti_score'] = [average_sentiment(post) for post in normalized_corpus]"
   ]
  },
  {
   "cell_type": "code",
   "execution_count": 30,
   "id": "4ef5908b",
   "metadata": {},
   "outputs": [
    {
     "data": {
      "text/html": [
       "<div>\n",
       "<style scoped>\n",
       "    .dataframe tbody tr th:only-of-type {\n",
       "        vertical-align: middle;\n",
       "    }\n",
       "\n",
       "    .dataframe tbody tr th {\n",
       "        vertical-align: top;\n",
       "    }\n",
       "\n",
       "    .dataframe thead th {\n",
       "        text-align: right;\n",
       "    }\n",
       "</style>\n",
       "<table border=\"1\" class=\"dataframe\">\n",
       "  <thead>\n",
       "    <tr style=\"text-align: right;\">\n",
       "      <th></th>\n",
       "      <th>author</th>\n",
       "      <th>num_comments</th>\n",
       "      <th>selftext</th>\n",
       "      <th>date</th>\n",
       "      <th>senti_score</th>\n",
       "    </tr>\n",
       "  </thead>\n",
       "  <tbody>\n",
       "    <tr>\n",
       "      <th>0</th>\n",
       "      <td>Ap-a-live</td>\n",
       "      <td>0</td>\n",
       "      <td>Sometimes I feel I have the destiny of a philo...</td>\n",
       "      <td>2018-06-12</td>\n",
       "      <td>-0.599</td>\n",
       "    </tr>\n",
       "    <tr>\n",
       "      <th>1</th>\n",
       "      <td>Ap-a-live</td>\n",
       "      <td>8</td>\n",
       "      <td>Hi everybody, I am new in this sub and I hope ...</td>\n",
       "      <td>2018-08-08</td>\n",
       "      <td>-0.989</td>\n",
       "    </tr>\n",
       "    <tr>\n",
       "      <th>2</th>\n",
       "      <td>Ap-a-live</td>\n",
       "      <td>0</td>\n",
       "      <td>For a long time I suffer from anxiety and ocd ...</td>\n",
       "      <td>2019-05-22</td>\n",
       "      <td>-0.877</td>\n",
       "    </tr>\n",
       "    <tr>\n",
       "      <th>3</th>\n",
       "      <td>Ap-a-live</td>\n",
       "      <td>0</td>\n",
       "      <td>So so lonely I am, it is so sad. I would be a ...</td>\n",
       "      <td>2019-06-21</td>\n",
       "      <td>-0.681</td>\n",
       "    </tr>\n",
       "    <tr>\n",
       "      <th>4</th>\n",
       "      <td>Ap-a-live</td>\n",
       "      <td>5</td>\n",
       "      <td>I am not sure what to expect from this post. I...</td>\n",
       "      <td>2019-07-17</td>\n",
       "      <td>-0.958</td>\n",
       "    </tr>\n",
       "  </tbody>\n",
       "</table>\n",
       "</div>"
      ],
      "text/plain": [
       "      author  num_comments                                           selftext  \\\n",
       "0  Ap-a-live             0  Sometimes I feel I have the destiny of a philo...   \n",
       "1  Ap-a-live             8  Hi everybody, I am new in this sub and I hope ...   \n",
       "2  Ap-a-live             0  For a long time I suffer from anxiety and ocd ...   \n",
       "3  Ap-a-live             0  So so lonely I am, it is so sad. I would be a ...   \n",
       "4  Ap-a-live             5  I am not sure what to expect from this post. I...   \n",
       "\n",
       "        date  senti_score  \n",
       "0 2018-06-12       -0.599  \n",
       "1 2018-08-08       -0.989  \n",
       "2 2019-05-22       -0.877  \n",
       "3 2019-06-21       -0.681  \n",
       "4 2019-07-17       -0.958  "
      ]
     },
     "execution_count": 30,
     "metadata": {},
     "output_type": "execute_result"
    }
   ],
   "source": [
    "df.head()\n",
    "# 0 \t27_emilys \t1 \tMy depression gives me these extremely irratio... \t2018-03-15 \t-0.952\n",
    "# 0 \tAp-a-live \t0 \tSometimes I feel I have the destiny of a philo... \t2018-06-12 \t-0.599"
   ]
  },
  {
   "cell_type": "code",
   "execution_count": 55,
   "id": "b73ec855",
   "metadata": {
    "collapsed": true
   },
   "outputs": [
    {
     "data": {
      "text/html": [
       "<div>\n",
       "<style scoped>\n",
       "    .dataframe tbody tr th:only-of-type {\n",
       "        vertical-align: middle;\n",
       "    }\n",
       "\n",
       "    .dataframe tbody tr th {\n",
       "        vertical-align: top;\n",
       "    }\n",
       "\n",
       "    .dataframe thead th {\n",
       "        text-align: right;\n",
       "    }\n",
       "</style>\n",
       "<table border=\"1\" class=\"dataframe\">\n",
       "  <thead>\n",
       "    <tr style=\"text-align: right;\">\n",
       "      <th></th>\n",
       "      <th>author</th>\n",
       "      <th>num_comments</th>\n",
       "      <th>selftext</th>\n",
       "      <th>date</th>\n",
       "      <th>senti_score</th>\n",
       "    </tr>\n",
       "  </thead>\n",
       "  <tbody>\n",
       "    <tr>\n",
       "      <th>584</th>\n",
       "      <td>RayDelMar_0</td>\n",
       "      <td>1</td>\n",
       "      <td>Somedays it's worse than others, but today I'm...</td>\n",
       "      <td>2019-12-01</td>\n",
       "      <td>-0.477</td>\n",
       "    </tr>\n",
       "    <tr>\n",
       "      <th>585</th>\n",
       "      <td>RayDelMar_0</td>\n",
       "      <td>4</td>\n",
       "      <td>Hi everyone. I'm sorry that this is long. I’ve...</td>\n",
       "      <td>2020-01-26</td>\n",
       "      <td>0.987</td>\n",
       "    </tr>\n",
       "    <tr>\n",
       "      <th>586</th>\n",
       "      <td>RayDelMar_0</td>\n",
       "      <td>2</td>\n",
       "      <td>Not that it matters, but I’m F18. My family ra...</td>\n",
       "      <td>2020-02-19</td>\n",
       "      <td>-0.745</td>\n",
       "    </tr>\n",
       "    <tr>\n",
       "      <th>587</th>\n",
       "      <td>RayDelMar_0</td>\n",
       "      <td>1</td>\n",
       "      <td>I always wake up around 2-3 pm every day and I...</td>\n",
       "      <td>2020-06-22</td>\n",
       "      <td>-0.989</td>\n",
       "    </tr>\n",
       "    <tr>\n",
       "      <th>588</th>\n",
       "      <td>RayDelMar_0</td>\n",
       "      <td>2</td>\n",
       "      <td>Its 5:30 PM and I've been in bed since 12 AM. ...</td>\n",
       "      <td>2020-08-17</td>\n",
       "      <td>0.941</td>\n",
       "    </tr>\n",
       "  </tbody>\n",
       "</table>\n",
       "</div>"
      ],
      "text/plain": [
       "          author  num_comments  \\\n",
       "584  RayDelMar_0             1   \n",
       "585  RayDelMar_0             4   \n",
       "586  RayDelMar_0             2   \n",
       "587  RayDelMar_0             1   \n",
       "588  RayDelMar_0             2   \n",
       "\n",
       "                                              selftext       date  senti_score  \n",
       "584  Somedays it's worse than others, but today I'm... 2019-12-01       -0.477  \n",
       "585  Hi everyone. I'm sorry that this is long. I’ve... 2020-01-26        0.987  \n",
       "586  Not that it matters, but I’m F18. My family ra... 2020-02-19       -0.745  \n",
       "587  I always wake up around 2-3 pm every day and I... 2020-06-22       -0.989  \n",
       "588  Its 5:30 PM and I've been in bed since 12 AM. ... 2020-08-17        0.941  "
      ]
     },
     "execution_count": 55,
     "metadata": {},
     "output_type": "execute_result"
    }
   ],
   "source": [
    "df.tail()"
   ]
  },
  {
   "cell_type": "code",
   "execution_count": 39,
   "id": "0ad7a832",
   "metadata": {},
   "outputs": [],
   "source": [
    "def score_count(df):\n",
    "\n",
    "    pos_score = []\n",
    "    neg_score = []\n",
    "    neut_score = []\n",
    "\n",
    "    for score in df['senti_score']:\n",
    "        if score > 0:\n",
    "            pos_score.append(score)\n",
    "        \n",
    "        elif score == 0:\n",
    "            neut_score.append(score)\n",
    "\n",
    "        else:\n",
    "            neg_score.append(score)\n",
    "\n",
    "    return f'positive: {len(pos_score)}, negative: {len(neg_score)}, neutral: {len(neut_score)}'"
   ]
  },
  {
   "cell_type": "code",
   "execution_count": 40,
   "id": "c8a7a01c",
   "metadata": {},
   "outputs": [
    {
     "data": {
      "text/plain": [
       "'positive: 178, negative: 404, neutral: 7'"
      ]
     },
     "execution_count": 40,
     "metadata": {},
     "output_type": "execute_result"
    }
   ],
   "source": [
    "score_count(df)"
   ]
  },
  {
   "cell_type": "code",
   "execution_count": 28,
   "id": "4538c8cf",
   "metadata": {},
   "outputs": [],
   "source": [
    "# DIAGNOSED --> 'positive: 178, negative: 404, neutral: 7'\n",
    "# 30% (positive) vs 69% (negative) vs 1% (neutral)\n",
    "\n",
    "# NOT DIAGNOSED --> 'positive: 168, negative: 405, neutral: 16'\n",
    "# 28% (positive) vs 69% (negative) vs 2% (neutral)"
   ]
  },
  {
   "cell_type": "markdown",
   "id": "12fdfe33",
   "metadata": {},
   "source": [
    "# POS tagging analysis"
   ]
  },
  {
   "cell_type": "code",
   "execution_count": 30,
   "id": "1f09cded",
   "metadata": {},
   "outputs": [],
   "source": [
    "def pos_tagging(corpus):\n",
    "    \n",
    "    tagged_corpus = []\n",
    "    for post in corpus:\n",
    "        post = nltk.word_tokenize(post)\n",
    "        post = nltk.pos_tag(post)\n",
    "        \n",
    "        tagged_corpus.append(post)\n",
    "        \n",
    "    return tagged_corpus"
   ]
  },
  {
   "cell_type": "code",
   "execution_count": 31,
   "id": "4314df06",
   "metadata": {},
   "outputs": [],
   "source": [
    "norm_pos = pos_tagging(normalized_corpus)"
   ]
  },
  {
   "cell_type": "code",
   "execution_count": 32,
   "id": "e1d0ace1",
   "metadata": {},
   "outputs": [],
   "source": [
    "from collections import Counter"
   ]
  },
  {
   "cell_type": "code",
   "execution_count": 33,
   "id": "5a577582",
   "metadata": {
    "collapsed": true
   },
   "outputs": [
    {
     "name": "stdout",
     "output_type": "stream",
     "text": [
      "this dataset contains 2876 verbs\n",
      "most 10 common verbs\n",
      "get: 193\n",
      "i: 190\n",
      "go: 180\n",
      "feel: 149\n",
      "know: 132\n",
      "take: 85\n",
      "make: 79\n",
      "tell: 72\n",
      "want: 71\n",
      "think: 55\n"
     ]
    }
   ],
   "source": [
    "verbs = []\n",
    "# verb --> VB\n",
    "# verb past tense --> VBD\n",
    "# verb third person singular --> VBZ\n",
    "\n",
    "# noun --> NN\n",
    "# noun plural --> NNS\n",
    "# noun proper singular --> NNP \n",
    "# noun proper plural --> NNPS\n",
    "\n",
    "for text in norm_pos:\n",
    "    for item in text:\n",
    "        if item[1] == 'VB':\n",
    "            verbs.append(item[0])\n",
    "                \n",
    "verbs_counter = Counter(verbs)\n",
    "common_verbs = verbs_counter.most_common(10)\n",
    "\n",
    "\n",
    "print(f\"this dataset contains {len(verbs)} verbs\")\n",
    "print(\"most 10 common verbs\")\n",
    "for item in common_verbs:\n",
    "    print(f\"{item[0]}: {item[1]}\")\n",
    "\n",
    "# NOT DIAGNOSED\n",
    "# [('get', 191), ('go', 181), ('feel', 149), ('know', 132), ('take', 85), ('make', 79), \n",
    "# ('tell', 74), ('want', 72), ('think', 55)]\n",
    "# 2873\n",
    "\n",
    "# DIAGNOSED\n",
    "# [('get', 354), ('feel', 249), ('go', 225), ('know', 197), ('want', 111), ('tell', 109), \n",
    "# ('make', 106), ('take', 105), ('try', 91)]\n",
    "# 4382"
   ]
  },
  {
   "cell_type": "markdown",
   "id": "c27528e4",
   "metadata": {},
   "source": [
    "# affect analysis"
   ]
  },
  {
   "cell_type": "code",
   "execution_count": 43,
   "id": "f8efaa12",
   "metadata": {},
   "outputs": [],
   "source": [
    "# import text2emotion as te\n",
    "import text_to_emotions as emo"
   ]
  },
  {
   "cell_type": "code",
   "execution_count": null,
   "id": "22dac883",
   "metadata": {},
   "outputs": [],
   "source": [
    "# df['dominant_emo'] = [te.get_emotion(post) for post in normalized_corpus]\n",
    "df['dominant_emo'] = [emo.get_emotion(post) for post in normalized_corpus]"
   ]
  },
  {
   "cell_type": "code",
   "execution_count": null,
   "id": "789883c8",
   "metadata": {},
   "outputs": [],
   "source": [
    "df.head(12)"
   ]
  },
  {
   "cell_type": "code",
   "execution_count": 46,
   "id": "7ba23246",
   "metadata": {},
   "outputs": [
    {
     "data": {
      "text/html": [
       "<div>\n",
       "<style scoped>\n",
       "    .dataframe tbody tr th:only-of-type {\n",
       "        vertical-align: middle;\n",
       "    }\n",
       "\n",
       "    .dataframe tbody tr th {\n",
       "        vertical-align: top;\n",
       "    }\n",
       "\n",
       "    .dataframe thead th {\n",
       "        text-align: right;\n",
       "    }\n",
       "</style>\n",
       "<table border=\"1\" class=\"dataframe\">\n",
       "  <thead>\n",
       "    <tr style=\"text-align: right;\">\n",
       "      <th></th>\n",
       "      <th>author</th>\n",
       "      <th>num_comments</th>\n",
       "      <th>selftext</th>\n",
       "      <th>date</th>\n",
       "      <th>senti_score</th>\n",
       "      <th>dominant_emo</th>\n",
       "    </tr>\n",
       "  </thead>\n",
       "  <tbody>\n",
       "    <tr>\n",
       "      <th>0</th>\n",
       "      <td>Ap-a-live</td>\n",
       "      <td>0</td>\n",
       "      <td>Sometimes I feel I have the destiny of a philo...</td>\n",
       "      <td>2018-06-12</td>\n",
       "      <td>-0.599</td>\n",
       "      <td>{'Happy': 0.0, 'Angry': 0.0, 'Surprise': 0.11,...</td>\n",
       "    </tr>\n",
       "    <tr>\n",
       "      <th>1</th>\n",
       "      <td>Ap-a-live</td>\n",
       "      <td>8</td>\n",
       "      <td>Hi everybody, I am new in this sub and I hope ...</td>\n",
       "      <td>2018-08-08</td>\n",
       "      <td>-0.989</td>\n",
       "      <td>{'Happy': 0.03, 'Angry': 0.13, 'Surprise': 0.1...</td>\n",
       "    </tr>\n",
       "    <tr>\n",
       "      <th>2</th>\n",
       "      <td>Ap-a-live</td>\n",
       "      <td>0</td>\n",
       "      <td>For a long time I suffer from anxiety and ocd ...</td>\n",
       "      <td>2019-05-22</td>\n",
       "      <td>-0.877</td>\n",
       "      <td>{'Happy': 0.0, 'Angry': 0.0, 'Surprise': 0.3, ...</td>\n",
       "    </tr>\n",
       "    <tr>\n",
       "      <th>3</th>\n",
       "      <td>Ap-a-live</td>\n",
       "      <td>0</td>\n",
       "      <td>So so lonely I am, it is so sad. I would be a ...</td>\n",
       "      <td>2019-06-21</td>\n",
       "      <td>-0.681</td>\n",
       "      <td>{'Happy': 0.0, 'Angry': 0.0, 'Surprise': 0.0, ...</td>\n",
       "    </tr>\n",
       "    <tr>\n",
       "      <th>4</th>\n",
       "      <td>Ap-a-live</td>\n",
       "      <td>5</td>\n",
       "      <td>I am not sure what to expect from this post. I...</td>\n",
       "      <td>2019-07-17</td>\n",
       "      <td>-0.958</td>\n",
       "      <td>{'Happy': 0.19, 'Angry': 0.06, 'Surprise': 0.1...</td>\n",
       "    </tr>\n",
       "    <tr>\n",
       "      <th>5</th>\n",
       "      <td>Ap-a-live</td>\n",
       "      <td>4</td>\n",
       "      <td>I had to go through stuff the last few years t...</td>\n",
       "      <td>2020-04-01</td>\n",
       "      <td>-0.128</td>\n",
       "      <td>{'Happy': 0.08, 'Angry': 0.17, 'Surprise': 0.2...</td>\n",
       "    </tr>\n",
       "    <tr>\n",
       "      <th>6</th>\n",
       "      <td>Ap-a-live</td>\n",
       "      <td>3</td>\n",
       "      <td>I just got fired from a toxic job. I have been...</td>\n",
       "      <td>2021-04-01</td>\n",
       "      <td>-0.976</td>\n",
       "      <td>{'Happy': 0.09, 'Angry': 0.0, 'Surprise': 0.24...</td>\n",
       "    </tr>\n",
       "    <tr>\n",
       "      <th>7</th>\n",
       "      <td>Burneracct1270</td>\n",
       "      <td>0</td>\n",
       "      <td>First post using a burner account due to perso...</td>\n",
       "      <td>2019-05-16</td>\n",
       "      <td>-0.893</td>\n",
       "      <td>{'Happy': 0.19, 'Angry': 0.02, 'Surprise': 0.1...</td>\n",
       "    </tr>\n",
       "    <tr>\n",
       "      <th>8</th>\n",
       "      <td>Burneracct1270</td>\n",
       "      <td>3</td>\n",
       "      <td>I’ve been feeling depressed for this whole sem...</td>\n",
       "      <td>2019-05-18</td>\n",
       "      <td>0.970</td>\n",
       "      <td>{'Happy': 0.16, 'Angry': 0.04, 'Surprise': 0.2...</td>\n",
       "    </tr>\n",
       "    <tr>\n",
       "      <th>9</th>\n",
       "      <td>Burneracct1270</td>\n",
       "      <td>0</td>\n",
       "      <td>I recently told my family about my depression....</td>\n",
       "      <td>2019-05-18</td>\n",
       "      <td>-0.802</td>\n",
       "      <td>{'Happy': 0.08, 'Angry': 0.08, 'Surprise': 0.2...</td>\n",
       "    </tr>\n",
       "    <tr>\n",
       "      <th>10</th>\n",
       "      <td>Burneracct1270</td>\n",
       "      <td>4</td>\n",
       "      <td>Had a talk with someone in my family about my ...</td>\n",
       "      <td>2019-05-27</td>\n",
       "      <td>-0.992</td>\n",
       "      <td>{'Happy': 0.06, 'Angry': 0.04, 'Surprise': 0.2...</td>\n",
       "    </tr>\n",
       "    <tr>\n",
       "      <th>11</th>\n",
       "      <td>Burneracct1270</td>\n",
       "      <td>2</td>\n",
       "      <td>I’ve been diagnosed with depression and anxiet...</td>\n",
       "      <td>2019-05-27</td>\n",
       "      <td>-0.975</td>\n",
       "      <td>{'Happy': 0.08, 'Angry': 0.12, 'Surprise': 0.1...</td>\n",
       "    </tr>\n",
       "  </tbody>\n",
       "</table>\n",
       "</div>"
      ],
      "text/plain": [
       "            author  num_comments  \\\n",
       "0        Ap-a-live             0   \n",
       "1        Ap-a-live             8   \n",
       "2        Ap-a-live             0   \n",
       "3        Ap-a-live             0   \n",
       "4        Ap-a-live             5   \n",
       "5        Ap-a-live             4   \n",
       "6        Ap-a-live             3   \n",
       "7   Burneracct1270             0   \n",
       "8   Burneracct1270             3   \n",
       "9   Burneracct1270             0   \n",
       "10  Burneracct1270             4   \n",
       "11  Burneracct1270             2   \n",
       "\n",
       "                                             selftext       date  senti_score  \\\n",
       "0   Sometimes I feel I have the destiny of a philo... 2018-06-12       -0.599   \n",
       "1   Hi everybody, I am new in this sub and I hope ... 2018-08-08       -0.989   \n",
       "2   For a long time I suffer from anxiety and ocd ... 2019-05-22       -0.877   \n",
       "3   So so lonely I am, it is so sad. I would be a ... 2019-06-21       -0.681   \n",
       "4   I am not sure what to expect from this post. I... 2019-07-17       -0.958   \n",
       "5   I had to go through stuff the last few years t... 2020-04-01       -0.128   \n",
       "6   I just got fired from a toxic job. I have been... 2021-04-01       -0.976   \n",
       "7   First post using a burner account due to perso... 2019-05-16       -0.893   \n",
       "8   I’ve been feeling depressed for this whole sem... 2019-05-18        0.970   \n",
       "9   I recently told my family about my depression.... 2019-05-18       -0.802   \n",
       "10  Had a talk with someone in my family about my ... 2019-05-27       -0.992   \n",
       "11  I’ve been diagnosed with depression and anxiet... 2019-05-27       -0.975   \n",
       "\n",
       "                                         dominant_emo  \n",
       "0   {'Happy': 0.0, 'Angry': 0.0, 'Surprise': 0.11,...  \n",
       "1   {'Happy': 0.03, 'Angry': 0.13, 'Surprise': 0.1...  \n",
       "2   {'Happy': 0.0, 'Angry': 0.0, 'Surprise': 0.3, ...  \n",
       "3   {'Happy': 0.0, 'Angry': 0.0, 'Surprise': 0.0, ...  \n",
       "4   {'Happy': 0.19, 'Angry': 0.06, 'Surprise': 0.1...  \n",
       "5   {'Happy': 0.08, 'Angry': 0.17, 'Surprise': 0.2...  \n",
       "6   {'Happy': 0.09, 'Angry': 0.0, 'Surprise': 0.24...  \n",
       "7   {'Happy': 0.19, 'Angry': 0.02, 'Surprise': 0.1...  \n",
       "8   {'Happy': 0.16, 'Angry': 0.04, 'Surprise': 0.2...  \n",
       "9   {'Happy': 0.08, 'Angry': 0.08, 'Surprise': 0.2...  \n",
       "10  {'Happy': 0.06, 'Angry': 0.04, 'Surprise': 0.2...  \n",
       "11  {'Happy': 0.08, 'Angry': 0.12, 'Surprise': 0.1...  "
      ]
     },
     "execution_count": 46,
     "metadata": {},
     "output_type": "execute_result"
    }
   ],
   "source": [
    "df.head(12)"
   ]
  },
  {
   "cell_type": "code",
   "execution_count": 47,
   "id": "f6170f60",
   "metadata": {},
   "outputs": [
    {
     "data": {
      "text/plain": [
       "{'Happy': 0.16, 'Angry': 0.04, 'Surprise': 0.22, 'Sad': 0.29, 'Fear': 0.29}"
      ]
     },
     "execution_count": 47,
     "metadata": {},
     "output_type": "execute_result"
    }
   ],
   "source": [
    "df['dominant_emo'][8]"
   ]
  },
  {
   "cell_type": "code",
   "execution_count": 48,
   "id": "c9f78cf2",
   "metadata": {
    "collapsed": true
   },
   "outputs": [
    {
     "ename": "TypeError",
     "evalue": "unhashable type: 'dict'",
     "output_type": "error",
     "traceback": [
      "\u001b[1;31m---------------------------------------------------------------------------\u001b[0m",
      "\u001b[1;31mTypeError\u001b[0m                                 Traceback (most recent call last)",
      "\u001b[1;32mpandas\\_libs\\hashtable_class_helper.pxi\u001b[0m in \u001b[0;36mpandas._libs.hashtable.PyObjectHashTable.map_locations\u001b[1;34m()\u001b[0m\n",
      "\u001b[1;31mTypeError\u001b[0m: unhashable type: 'dict'"
     ]
    },
    {
     "name": "stderr",
     "output_type": "stream",
     "text": [
      "Exception ignored in: 'pandas._libs.index.IndexEngine._call_map_locations'\n",
      "Traceback (most recent call last):\n",
      "  File \"pandas\\_libs\\hashtable_class_helper.pxi\", line 4588, in pandas._libs.hashtable.PyObjectHashTable.map_locations\n",
      "TypeError: unhashable type: 'dict'\n"
     ]
    },
    {
     "data": {
      "text/plain": [
       "{'Happy': 0.0, 'Angry': 0.0, 'Surprise': 0.0, 'Sad': 1.0, 'Fear': 0.0}         6\n",
       "{'Happy': 0.0, 'Angry': 0.0, 'Surprise': 0.2, 'Sad': 0.6, 'Fear': 0.2}         5\n",
       "{'Happy': 0.0, 'Angry': 0.0, 'Surprise': 0.0, 'Sad': 0.0, 'Fear': 1.0}         5\n",
       "{'Happy': 0.0, 'Angry': 0.0, 'Surprise': 1.0, 'Sad': 0.0, 'Fear': 0.0}         5\n",
       "{'Happy': 0.0, 'Angry': 0.0, 'Surprise': 0.33, 'Sad': 0.33, 'Fear': 0.33}      4\n",
       "                                                                              ..\n",
       "{'Happy': 0.11, 'Angry': 0.05, 'Surprise': 0.16, 'Sad': 0.63, 'Fear': 0.05}    1\n",
       "{'Happy': 0.18, 'Angry': 0.06, 'Surprise': 0.24, 'Sad': 0.18, 'Fear': 0.35}    1\n",
       "{'Happy': 0.12, 'Angry': 0.08, 'Surprise': 0.23, 'Sad': 0.32, 'Fear': 0.26}    1\n",
       "{'Happy': 0.18, 'Angry': 0.03, 'Surprise': 0.21, 'Sad': 0.29, 'Fear': 0.29}    1\n",
       "{'Happy': 0.1, 'Angry': 0.1, 'Surprise': 0.4, 'Sad': 0.1, 'Fear': 0.3}         1\n",
       "Name: dominant_emo, Length: 537, dtype: int64"
      ]
     },
     "execution_count": 48,
     "metadata": {},
     "output_type": "execute_result"
    }
   ],
   "source": [
    "df['dominant_emo'].value_counts()"
   ]
  },
  {
   "cell_type": "markdown",
   "id": "85faeb48",
   "metadata": {},
   "source": [
    "# text classification"
   ]
  },
  {
   "cell_type": "code",
   "execution_count": 64,
   "id": "8df8eed5",
   "metadata": {},
   "outputs": [],
   "source": [
    "import text_classification as tc"
   ]
  },
  {
   "cell_type": "code",
   "execution_count": 65,
   "id": "66abf548",
   "metadata": {},
   "outputs": [],
   "source": [
    "df['lang'] = df['selftext'].apply(lambda text: tc.text_classifier(text))"
   ]
  },
  {
   "cell_type": "code",
   "execution_count": 66,
   "id": "a347ba89",
   "metadata": {},
   "outputs": [
    {
     "data": {
      "text/html": [
       "<div>\n",
       "<style scoped>\n",
       "    .dataframe tbody tr th:only-of-type {\n",
       "        vertical-align: middle;\n",
       "    }\n",
       "\n",
       "    .dataframe tbody tr th {\n",
       "        vertical-align: top;\n",
       "    }\n",
       "\n",
       "    .dataframe thead th {\n",
       "        text-align: right;\n",
       "    }\n",
       "</style>\n",
       "<table border=\"1\" class=\"dataframe\">\n",
       "  <thead>\n",
       "    <tr style=\"text-align: right;\">\n",
       "      <th></th>\n",
       "      <th>author</th>\n",
       "      <th>num_comments</th>\n",
       "      <th>selftext</th>\n",
       "      <th>date</th>\n",
       "      <th>senti_score</th>\n",
       "      <th>lang</th>\n",
       "    </tr>\n",
       "  </thead>\n",
       "  <tbody>\n",
       "    <tr>\n",
       "      <th>0</th>\n",
       "      <td>Ap-a-live</td>\n",
       "      <td>0</td>\n",
       "      <td>Sometimes I feel I have the destiny of a philo...</td>\n",
       "      <td>2018-06-12</td>\n",
       "      <td>-0.599</td>\n",
       "      <td>social</td>\n",
       "    </tr>\n",
       "    <tr>\n",
       "      <th>1</th>\n",
       "      <td>Ap-a-live</td>\n",
       "      <td>8</td>\n",
       "      <td>Hi everybody, I am new in this sub and I hope ...</td>\n",
       "      <td>2018-08-08</td>\n",
       "      <td>-0.989</td>\n",
       "      <td>social and emotional</td>\n",
       "    </tr>\n",
       "    <tr>\n",
       "      <th>2</th>\n",
       "      <td>Ap-a-live</td>\n",
       "      <td>0</td>\n",
       "      <td>For a long time I suffer from anxiety and ocd ...</td>\n",
       "      <td>2019-05-22</td>\n",
       "      <td>-0.877</td>\n",
       "      <td>emotional and social</td>\n",
       "    </tr>\n",
       "    <tr>\n",
       "      <th>3</th>\n",
       "      <td>Ap-a-live</td>\n",
       "      <td>0</td>\n",
       "      <td>So so lonely I am, it is so sad. I would be a ...</td>\n",
       "      <td>2019-06-21</td>\n",
       "      <td>-0.681</td>\n",
       "      <td>emotional</td>\n",
       "    </tr>\n",
       "    <tr>\n",
       "      <th>4</th>\n",
       "      <td>Ap-a-live</td>\n",
       "      <td>5</td>\n",
       "      <td>I am not sure what to expect from this post. I...</td>\n",
       "      <td>2019-07-17</td>\n",
       "      <td>-0.958</td>\n",
       "      <td>social and emotional</td>\n",
       "    </tr>\n",
       "  </tbody>\n",
       "</table>\n",
       "</div>"
      ],
      "text/plain": [
       "      author  num_comments                                           selftext  \\\n",
       "0  Ap-a-live             0  Sometimes I feel I have the destiny of a philo...   \n",
       "1  Ap-a-live             8  Hi everybody, I am new in this sub and I hope ...   \n",
       "2  Ap-a-live             0  For a long time I suffer from anxiety and ocd ...   \n",
       "3  Ap-a-live             0  So so lonely I am, it is so sad. I would be a ...   \n",
       "4  Ap-a-live             5  I am not sure what to expect from this post. I...   \n",
       "\n",
       "        date  senti_score                  lang  \n",
       "0 2018-06-12       -0.599                social  \n",
       "1 2018-08-08       -0.989  social and emotional  \n",
       "2 2019-05-22       -0.877  emotional and social  \n",
       "3 2019-06-21       -0.681             emotional  \n",
       "4 2019-07-17       -0.958  social and emotional  "
      ]
     },
     "execution_count": 66,
     "metadata": {},
     "output_type": "execute_result"
    }
   ],
   "source": [
    "df.head()"
   ]
  },
  {
   "cell_type": "code",
   "execution_count": 67,
   "id": "85797263",
   "metadata": {
    "collapsed": true
   },
   "outputs": [
    {
     "data": {
      "text/plain": [
       "emotional and social    205\n",
       "emotional               159\n",
       "social and emotional    135\n",
       "unknown                  40\n",
       "equal                    34\n",
       "social                   16\n",
       "Name: lang, dtype: int64"
      ]
     },
     "execution_count": 67,
     "metadata": {},
     "output_type": "execute_result"
    }
   ],
   "source": [
    "df['lang'].value_counts()\n",
    "# NOT-DEPRESSED\n",
    "# emotional and social    172\n",
    "# emotional               149\n",
    "# social and emotional    126\n",
    "# unknown                  71\n",
    "# equal                    50\n",
    "# social                   21\n",
    "\n",
    "# DIAGNOSED\n",
    "# emotional and social    205\n",
    "# emotional               159\n",
    "# social and emotional    135\n",
    "# unknown                  40\n",
    "# equal                    34\n",
    "# social                   16"
   ]
  },
  {
   "cell_type": "code",
   "execution_count": 68,
   "id": "5f86dcaf",
   "metadata": {},
   "outputs": [],
   "source": [
    "import seaborn as sns\n",
    "import matplotlib.pyplot as plt"
   ]
  },
  {
   "cell_type": "code",
   "execution_count": 148,
   "id": "6865b02a",
   "metadata": {},
   "outputs": [
    {
     "data": {
      "image/png": "[encoded data removed]",
      "text/plain": [
       "<Figure size 936x432 with 1 Axes>"
      ]
     },
     "metadata": {},
     "output_type": "display_data"
    }
   ],
   "source": [
    "fig, ax = plt.subplots(figsize=(13,6))\n",
    "sns.set(style=\"darkgrid\")\n",
    "data = df['lang']\n",
    "\n",
    "ax = sns.histplot(data=data,bins=5,shrink=.85, color='yellow')\n",
    "\n",
    "# this is not based on frequency!\n",
    "heights = [p.get_height() for p in ax.patches]\n",
    "third_highest = sorted(heights)[-3]\n",
    "for p in ax.patches:\n",
    "    if  p.get_height() >= third_highest:\n",
    "        p.set_color('yellowgreen')\n",
    "# https://stackoverflow.com/questions/59963831/seaborn-histogram-to-have-different-color-bins\n",
    "\n",
    "plt.title('Language categories used by Diagnosed users', fontsize=17)\n",
    "plt.xlabel('Categories', fontsize=15)\n",
    "plt.ylabel('Frequency', fontsize=15)\n",
    "\n",
    "plt.show()"
   ]
  },
  {
   "cell_type": "markdown",
   "id": "ab64f212",
   "metadata": {},
   "source": [
    "# plot "
   ]
  },
  {
   "cell_type": "code",
   "execution_count": 45,
   "id": "84843003",
   "metadata": {},
   "outputs": [
    {
     "data": {
      "text/html": [
       "<div>\n",
       "<style scoped>\n",
       "    .dataframe tbody tr th:only-of-type {\n",
       "        vertical-align: middle;\n",
       "    }\n",
       "\n",
       "    .dataframe tbody tr th {\n",
       "        vertical-align: top;\n",
       "    }\n",
       "\n",
       "    .dataframe thead th {\n",
       "        text-align: right;\n",
       "    }\n",
       "</style>\n",
       "<table border=\"1\" class=\"dataframe\">\n",
       "  <thead>\n",
       "    <tr style=\"text-align: right;\">\n",
       "      <th></th>\n",
       "      <th>author</th>\n",
       "      <th>num_comments</th>\n",
       "      <th>selftext</th>\n",
       "      <th>date</th>\n",
       "      <th>senti_score</th>\n",
       "      <th>lang</th>\n",
       "    </tr>\n",
       "  </thead>\n",
       "  <tbody>\n",
       "    <tr>\n",
       "      <th>510</th>\n",
       "      <td>Melchior94</td>\n",
       "      <td>2</td>\n",
       "      <td>I'm 25 and I feel just... old. My whole life f...</td>\n",
       "      <td>2020-03-08</td>\n",
       "      <td>-0.925</td>\n",
       "      <td>emotional</td>\n",
       "    </tr>\n",
       "    <tr>\n",
       "      <th>511</th>\n",
       "      <td>Melchior94</td>\n",
       "      <td>2</td>\n",
       "      <td>I feel like I'm decaying. Things I could do on...</td>\n",
       "      <td>2020-06-14</td>\n",
       "      <td>-0.805</td>\n",
       "      <td>emotional and social</td>\n",
       "    </tr>\n",
       "    <tr>\n",
       "      <th>512</th>\n",
       "      <td>Melchior94</td>\n",
       "      <td>0</td>\n",
       "      <td>I just want to end this miserable experiences ...</td>\n",
       "      <td>2020-09-21</td>\n",
       "      <td>-0.440</td>\n",
       "      <td>emotional</td>\n",
       "    </tr>\n",
       "    <tr>\n",
       "      <th>513</th>\n",
       "      <td>Melchior94</td>\n",
       "      <td>1</td>\n",
       "      <td>There isn't anywhere I could go from here. Eve...</td>\n",
       "      <td>2020-10-18</td>\n",
       "      <td>0.894</td>\n",
       "      <td>emotional and social</td>\n",
       "    </tr>\n",
       "    <tr>\n",
       "      <th>514</th>\n",
       "      <td>Melchior94</td>\n",
       "      <td>0</td>\n",
       "      <td>There is just nothing I actually desire. I fee...</td>\n",
       "      <td>2020-11-19</td>\n",
       "      <td>-0.867</td>\n",
       "      <td>emotional</td>\n",
       "    </tr>\n",
       "  </tbody>\n",
       "</table>\n",
       "</div>"
      ],
      "text/plain": [
       "         author  num_comments  \\\n",
       "510  Melchior94             2   \n",
       "511  Melchior94             2   \n",
       "512  Melchior94             0   \n",
       "513  Melchior94             1   \n",
       "514  Melchior94             0   \n",
       "\n",
       "                                              selftext       date  \\\n",
       "510  I'm 25 and I feel just... old. My whole life f... 2020-03-08   \n",
       "511  I feel like I'm decaying. Things I could do on... 2020-06-14   \n",
       "512  I just want to end this miserable experiences ... 2020-09-21   \n",
       "513  There isn't anywhere I could go from here. Eve... 2020-10-18   \n",
       "514  There is just nothing I actually desire. I fee... 2020-11-19   \n",
       "\n",
       "     senti_score                  lang  \n",
       "510       -0.925             emotional  \n",
       "511       -0.805  emotional and social  \n",
       "512       -0.440             emotional  \n",
       "513        0.894  emotional and social  \n",
       "514       -0.867             emotional  "
      ]
     },
     "execution_count": 45,
     "metadata": {},
     "output_type": "execute_result"
    }
   ],
   "source": [
    "# dreworbuskeridunno 551:577\n",
    "# CubistIvy 21:43\n",
    "# DeeGeeG 44:59\n",
    "# anxious-wreck 171:250\n",
    "# Lauraanthony209 510:549\n",
    "\n",
    "# OilSoul 94:124\n",
    "random_user_s = df[510:549]\n",
    "random_user_s.head()"
   ]
  },
  {
   "cell_type": "code",
   "execution_count": 46,
   "id": "a3adc90b",
   "metadata": {},
   "outputs": [
    {
     "data": {
      "text/html": [
       "<div>\n",
       "<style scoped>\n",
       "    .dataframe tbody tr th:only-of-type {\n",
       "        vertical-align: middle;\n",
       "    }\n",
       "\n",
       "    .dataframe tbody tr th {\n",
       "        vertical-align: top;\n",
       "    }\n",
       "\n",
       "    .dataframe thead th {\n",
       "        text-align: right;\n",
       "    }\n",
       "</style>\n",
       "<table border=\"1\" class=\"dataframe\">\n",
       "  <thead>\n",
       "    <tr style=\"text-align: right;\">\n",
       "      <th></th>\n",
       "      <th>author</th>\n",
       "      <th>num_comments</th>\n",
       "      <th>selftext</th>\n",
       "      <th>date</th>\n",
       "      <th>senti_score</th>\n",
       "      <th>lang</th>\n",
       "    </tr>\n",
       "  </thead>\n",
       "  <tbody>\n",
       "    <tr>\n",
       "      <th>544</th>\n",
       "      <td>Planetof12</td>\n",
       "      <td>32</td>\n",
       "      <td>The fear of weight gain is the only thing keep...</td>\n",
       "      <td>2018-12-20</td>\n",
       "      <td>0.052</td>\n",
       "      <td>emotional</td>\n",
       "    </tr>\n",
       "    <tr>\n",
       "      <th>545</th>\n",
       "      <td>Planetof12</td>\n",
       "      <td>0</td>\n",
       "      <td>I'm diagnosed with 2 illnesses (Chronic depres...</td>\n",
       "      <td>2018-12-22</td>\n",
       "      <td>-0.976</td>\n",
       "      <td>emotional and social</td>\n",
       "    </tr>\n",
       "    <tr>\n",
       "      <th>546</th>\n",
       "      <td>Planetof12</td>\n",
       "      <td>8</td>\n",
       "      <td>These people love video games and 'staying ins...</td>\n",
       "      <td>2018-12-22</td>\n",
       "      <td>0.883</td>\n",
       "      <td>emotional and social</td>\n",
       "    </tr>\n",
       "    <tr>\n",
       "      <th>547</th>\n",
       "      <td>Planetof12</td>\n",
       "      <td>8</td>\n",
       "      <td>I tried. Believe me, I tried. I spent so much ...</td>\n",
       "      <td>2019-01-10</td>\n",
       "      <td>0.391</td>\n",
       "      <td>social and emotional</td>\n",
       "    </tr>\n",
       "    <tr>\n",
       "      <th>548</th>\n",
       "      <td>Planetof12</td>\n",
       "      <td>0</td>\n",
       "      <td>Non-supportive environments have no rights to ...</td>\n",
       "      <td>2019-01-11</td>\n",
       "      <td>-0.415</td>\n",
       "      <td>emotional and social</td>\n",
       "    </tr>\n",
       "  </tbody>\n",
       "</table>\n",
       "</div>"
      ],
      "text/plain": [
       "         author  num_comments  \\\n",
       "544  Planetof12            32   \n",
       "545  Planetof12             0   \n",
       "546  Planetof12             8   \n",
       "547  Planetof12             8   \n",
       "548  Planetof12             0   \n",
       "\n",
       "                                              selftext       date  \\\n",
       "544  The fear of weight gain is the only thing keep... 2018-12-20   \n",
       "545  I'm diagnosed with 2 illnesses (Chronic depres... 2018-12-22   \n",
       "546  These people love video games and 'staying ins... 2018-12-22   \n",
       "547  I tried. Believe me, I tried. I spent so much ... 2019-01-10   \n",
       "548  Non-supportive environments have no rights to ... 2019-01-11   \n",
       "\n",
       "     senti_score                  lang  \n",
       "544        0.052             emotional  \n",
       "545       -0.976  emotional and social  \n",
       "546        0.883  emotional and social  \n",
       "547        0.391  social and emotional  \n",
       "548       -0.415  emotional and social  "
      ]
     },
     "execution_count": 46,
     "metadata": {},
     "output_type": "execute_result"
    }
   ],
   "source": [
    "random_user_s.tail()"
   ]
  },
  {
   "cell_type": "code",
   "execution_count": 47,
   "id": "2aed2c5c",
   "metadata": {},
   "outputs": [
    {
     "data": {
      "text/plain": [
       "'positive: 11, negative: 26, neutral: 2'"
      ]
     },
     "execution_count": 47,
     "metadata": {},
     "output_type": "execute_result"
    }
   ],
   "source": [
    "score_count(random_user_s)"
   ]
  },
  {
   "cell_type": "code",
   "execution_count": 25,
   "id": "f44d0a2a",
   "metadata": {
    "collapsed": true
   },
   "outputs": [
    {
     "ename": "NameError",
     "evalue": "name 'average_length' is not defined",
     "output_type": "error",
     "traceback": [
      "\u001b[1;31m---------------------------------------------------------------------------\u001b[0m",
      "\u001b[1;31mNameError\u001b[0m                                 Traceback (most recent call last)",
      "\u001b[1;32m<ipython-input-25-cc7de855fd1f>\u001b[0m in \u001b[0;36m<module>\u001b[1;34m\u001b[0m\n\u001b[0;32m      1\u001b[0m \u001b[1;31m# USER POSTS' LENGHT\u001b[0m\u001b[1;33m\u001b[0m\u001b[1;33m\u001b[0m\u001b[1;33m\u001b[0m\u001b[0m\n\u001b[1;32m----> 2\u001b[1;33m \u001b[0maverage_length\u001b[0m\u001b[1;33m(\u001b[0m\u001b[0mrandom_user_s\u001b[0m\u001b[1;33m[\u001b[0m\u001b[1;34m'selftext'\u001b[0m\u001b[1;33m]\u001b[0m\u001b[1;33m)\u001b[0m\u001b[1;33m\u001b[0m\u001b[1;33m\u001b[0m\u001b[0m\n\u001b[0m",
      "\u001b[1;31mNameError\u001b[0m: name 'average_length' is not defined"
     ]
    }
   ],
   "source": [
    "# USER POSTS' LENGHT\n",
    "average_length(random_user_s['selftext'])"
   ]
  },
  {
   "cell_type": "code",
   "execution_count": 35,
   "id": "d1f3d009",
   "metadata": {},
   "outputs": [],
   "source": [
    "# MOOD SWING with STANDARD DEVIATION"
   ]
  },
  {
   "cell_type": "code",
   "execution_count": 36,
   "id": "806772e4",
   "metadata": {},
   "outputs": [],
   "source": [
    "import matplotlib.pyplot as plt"
   ]
  },
  {
   "cell_type": "code",
   "execution_count": 59,
   "id": "9e428848",
   "metadata": {},
   "outputs": [
    {
     "data": {
      "image/png": "[encoded data removed]",
      "text/plain": [
       "<Figure size 864x432 with 1 Axes>"
      ]
     },
     "metadata": {
      "needs_background": "light"
     },
     "output_type": "display_data"
    }
   ],
   "source": [
    "# create a time series plot using random_user variable\n",
    "# 1) create figure and plot space\n",
    "fig, ax = plt.subplots(figsize=(12,6))\n",
    "\n",
    "# 2) add x-axis and y-axis\n",
    "ax.plot(random_user_s['date'], # x-axis\n",
    "        random_user_s['senti_score'],\n",
    "        label = 'submissions',\n",
    "        color='orangered') # y-axis\n",
    "\n",
    "ax.axhline(0, color='k', linestyle='--', linewidth=1, label='discrimination line')\n",
    "\n",
    "# 3) set titles and labels\n",
    "ax.set(xlabel='Date',\n",
    "       ylabel='Sentiment range',\n",
    "       title='sentiment score over time, user: PM_ME_YOUR_TUTURUS')\n",
    "\n",
    "plt.legend(loc='upper left', bbox_to_anchor=(.025, .95))\n",
    "# ax.legend(loc='upper left', fontsize=11, frameon=True).get_frame().set_edgecolor('blue')\n",
    "ax.grid(True)\n",
    "# plt.savefig('sentiment score over time--submissions.png')\n",
    "plt.xticks(rotation = 45)\n",
    "plt.show()"
   ]
  },
  {
   "cell_type": "code",
   "execution_count": null,
   "id": "284bec1d",
   "metadata": {},
   "outputs": [],
   "source": []
  }
 ],
 "metadata": {
  "kernelspec": {
   "display_name": "Python 3",
   "language": "python",
   "name": "python3"
  },
  "language_info": {
   "codemirror_mode": {
    "name": "ipython",
    "version": 3
   },
   "file_extension": ".py",
   "mimetype": "text/x-python",
   "name": "python",
   "nbconvert_exporter": "python",
   "pygments_lexer": "ipython3",
   "version": "3.9.4"
  }
 },
 "nbformat": 4,
 "nbformat_minor": 5
}
