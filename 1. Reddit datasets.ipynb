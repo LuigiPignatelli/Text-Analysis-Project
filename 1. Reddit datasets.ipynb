{
 "cells": [
  {
   "cell_type": "markdown",
   "metadata": {},
   "source": [
    "# datset of submissions"
   ]
  },
  {
   "cell_type": "code",
   "execution_count": 6,
   "metadata": {},
   "outputs": [],
   "source": [
    "import numpy as np\n",
    "import pandas as pd"
   ]
  },
  {
   "cell_type": "code",
   "execution_count": 7,
   "metadata": {},
   "outputs": [],
   "source": [
    "# this dataset is made only of submissions!\n",
    "df = pd.read_csv('./dataset_3/non-depression_authors_submissions.csv')"
   ]
  },
  {
   "cell_type": "code",
   "execution_count": 8,
   "metadata": {},
   "outputs": [],
   "source": [
    "# del df['id']\n",
    "del df['title']\n",
    "del df['score']"
   ]
  },
  {
   "cell_type": "code",
   "execution_count": 9,
   "metadata": {},
   "outputs": [
    {
     "data": {
      "text/html": [
       "<div>\n",
       "<style scoped>\n",
       "    .dataframe tbody tr th:only-of-type {\n",
       "        vertical-align: middle;\n",
       "    }\n",
       "\n",
       "    .dataframe tbody tr th {\n",
       "        vertical-align: top;\n",
       "    }\n",
       "\n",
       "    .dataframe thead th {\n",
       "        text-align: right;\n",
       "    }\n",
       "</style>\n",
       "<table border=\"1\" class=\"dataframe\">\n",
       "  <thead>\n",
       "    <tr style=\"text-align: right;\">\n",
       "      <th></th>\n",
       "      <th>author</th>\n",
       "      <th>created_utc</th>\n",
       "      <th>num_comments</th>\n",
       "      <th>selftext</th>\n",
       "    </tr>\n",
       "  </thead>\n",
       "  <tbody>\n",
       "    <tr>\n",
       "      <th>0</th>\n",
       "      <td>Marshmello_Man</td>\n",
       "      <td>1614347839</td>\n",
       "      <td>0</td>\n",
       "      <td>Waking up is the most terrible thing. I wake u...</td>\n",
       "    </tr>\n",
       "    <tr>\n",
       "      <th>1</th>\n",
       "      <td>Marshmello_Man</td>\n",
       "      <td>1613702452</td>\n",
       "      <td>6</td>\n",
       "      <td>I was diagnosed with Major Depressive Disorder...</td>\n",
       "    </tr>\n",
       "    <tr>\n",
       "      <th>2</th>\n",
       "      <td>Wendellmaximov</td>\n",
       "      <td>1613356817</td>\n",
       "      <td>3</td>\n",
       "      <td>I feel like my chronic boredom and need for st...</td>\n",
       "    </tr>\n",
       "    <tr>\n",
       "      <th>3</th>\n",
       "      <td>DrakenJosh98</td>\n",
       "      <td>1612433626</td>\n",
       "      <td>1</td>\n",
       "      <td>I wish I was able to live a state of delusion ...</td>\n",
       "    </tr>\n",
       "    <tr>\n",
       "      <th>4</th>\n",
       "      <td>Bruchpilot_Sim</td>\n",
       "      <td>1621624482</td>\n",
       "      <td>0</td>\n",
       "      <td>I'm lying in my bed again. Doing nothing. Thin...</td>\n",
       "    </tr>\n",
       "  </tbody>\n",
       "</table>\n",
       "</div>"
      ],
      "text/plain": [
       "           author  created_utc  num_comments  \\\n",
       "0  Marshmello_Man   1614347839             0   \n",
       "1  Marshmello_Man   1613702452             6   \n",
       "2  Wendellmaximov   1613356817             3   \n",
       "3    DrakenJosh98   1612433626             1   \n",
       "4  Bruchpilot_Sim   1621624482             0   \n",
       "\n",
       "                                            selftext  \n",
       "0  Waking up is the most terrible thing. I wake u...  \n",
       "1  I was diagnosed with Major Depressive Disorder...  \n",
       "2  I feel like my chronic boredom and need for st...  \n",
       "3  I wish I was able to live a state of delusion ...  \n",
       "4  I'm lying in my bed again. Doing nothing. Thin...  "
      ]
     },
     "execution_count": 9,
     "metadata": {},
     "output_type": "execute_result"
    }
   ],
   "source": [
    "df.head()"
   ]
  },
  {
   "cell_type": "code",
   "execution_count": 10,
   "metadata": {},
   "outputs": [],
   "source": [
    "from datetime import datetime"
   ]
  },
  {
   "cell_type": "code",
   "execution_count": 11,
   "metadata": {},
   "outputs": [],
   "source": [
    "def convert_to_date(timestamp):\n",
    "    date = datetime.utcfromtimestamp(timestamp).strftime('%Y-%m-%d')\n",
    "    # strftime('%Y-%m-%d %H:%M:%S')\n",
    "    return date"
   ]
  },
  {
   "cell_type": "code",
   "execution_count": 12,
   "metadata": {},
   "outputs": [],
   "source": [
    "df['date'] = df['created_utc'].apply(lambda date: convert_to_date(date))\n",
    "# df['date'] = df['retrieved_on'].apply(lambda date: convert_to_date(date))"
   ]
  },
  {
   "cell_type": "code",
   "execution_count": 13,
   "metadata": {},
   "outputs": [],
   "source": [
    "del df['created_utc']\n",
    "# del df['retrieved_on']"
   ]
  },
  {
   "cell_type": "code",
   "execution_count": 14,
   "metadata": {},
   "outputs": [
    {
     "data": {
      "text/html": [
       "<div>\n",
       "<style scoped>\n",
       "    .dataframe tbody tr th:only-of-type {\n",
       "        vertical-align: middle;\n",
       "    }\n",
       "\n",
       "    .dataframe tbody tr th {\n",
       "        vertical-align: top;\n",
       "    }\n",
       "\n",
       "    .dataframe thead th {\n",
       "        text-align: right;\n",
       "    }\n",
       "</style>\n",
       "<table border=\"1\" class=\"dataframe\">\n",
       "  <thead>\n",
       "    <tr style=\"text-align: right;\">\n",
       "      <th></th>\n",
       "      <th>author</th>\n",
       "      <th>num_comments</th>\n",
       "      <th>selftext</th>\n",
       "      <th>date</th>\n",
       "    </tr>\n",
       "  </thead>\n",
       "  <tbody>\n",
       "    <tr>\n",
       "      <th>0</th>\n",
       "      <td>Marshmello_Man</td>\n",
       "      <td>0</td>\n",
       "      <td>Waking up is the most terrible thing. I wake u...</td>\n",
       "      <td>2021-02-26</td>\n",
       "    </tr>\n",
       "    <tr>\n",
       "      <th>1</th>\n",
       "      <td>Marshmello_Man</td>\n",
       "      <td>6</td>\n",
       "      <td>I was diagnosed with Major Depressive Disorder...</td>\n",
       "      <td>2021-02-19</td>\n",
       "    </tr>\n",
       "    <tr>\n",
       "      <th>2</th>\n",
       "      <td>Wendellmaximov</td>\n",
       "      <td>3</td>\n",
       "      <td>I feel like my chronic boredom and need for st...</td>\n",
       "      <td>2021-02-15</td>\n",
       "    </tr>\n",
       "    <tr>\n",
       "      <th>3</th>\n",
       "      <td>DrakenJosh98</td>\n",
       "      <td>1</td>\n",
       "      <td>I wish I was able to live a state of delusion ...</td>\n",
       "      <td>2021-02-04</td>\n",
       "    </tr>\n",
       "    <tr>\n",
       "      <th>4</th>\n",
       "      <td>Bruchpilot_Sim</td>\n",
       "      <td>0</td>\n",
       "      <td>I'm lying in my bed again. Doing nothing. Thin...</td>\n",
       "      <td>2021-05-21</td>\n",
       "    </tr>\n",
       "  </tbody>\n",
       "</table>\n",
       "</div>"
      ],
      "text/plain": [
       "           author  num_comments  \\\n",
       "0  Marshmello_Man             0   \n",
       "1  Marshmello_Man             6   \n",
       "2  Wendellmaximov             3   \n",
       "3    DrakenJosh98             1   \n",
       "4  Bruchpilot_Sim             0   \n",
       "\n",
       "                                            selftext        date  \n",
       "0  Waking up is the most terrible thing. I wake u...  2021-02-26  \n",
       "1  I was diagnosed with Major Depressive Disorder...  2021-02-19  \n",
       "2  I feel like my chronic boredom and need for st...  2021-02-15  \n",
       "3  I wish I was able to live a state of delusion ...  2021-02-04  \n",
       "4  I'm lying in my bed again. Doing nothing. Thin...  2021-05-21  "
      ]
     },
     "execution_count": 14,
     "metadata": {},
     "output_type": "execute_result"
    }
   ],
   "source": [
    "df.head()"
   ]
  },
  {
   "cell_type": "code",
   "execution_count": 11,
   "metadata": {},
   "outputs": [
    {
     "data": {
      "text/html": [
       "<div>\n",
       "<style scoped>\n",
       "    .dataframe tbody tr th:only-of-type {\n",
       "        vertical-align: middle;\n",
       "    }\n",
       "\n",
       "    .dataframe tbody tr th {\n",
       "        vertical-align: top;\n",
       "    }\n",
       "\n",
       "    .dataframe thead th {\n",
       "        text-align: right;\n",
       "    }\n",
       "</style>\n",
       "<table border=\"1\" class=\"dataframe\">\n",
       "  <thead>\n",
       "    <tr style=\"text-align: right;\">\n",
       "      <th></th>\n",
       "      <th>author</th>\n",
       "      <th>num_comments</th>\n",
       "      <th>selftext</th>\n",
       "      <th>date</th>\n",
       "    </tr>\n",
       "  </thead>\n",
       "  <tbody>\n",
       "    <tr>\n",
       "      <th>1035</th>\n",
       "      <td>anxious-wreck</td>\n",
       "      <td>0</td>\n",
       "      <td>i talked to my therapist today and i've been t...</td>\n",
       "      <td>2017-11-20</td>\n",
       "    </tr>\n",
       "    <tr>\n",
       "      <th>1036</th>\n",
       "      <td>anxious-wreck</td>\n",
       "      <td>1</td>\n",
       "      <td>i haven't even been diagnosed with depression ...</td>\n",
       "      <td>2017-10-09</td>\n",
       "    </tr>\n",
       "    <tr>\n",
       "      <th>1037</th>\n",
       "      <td>anxious-wreck</td>\n",
       "      <td>0</td>\n",
       "      <td>I know that it's kind of a long post but I rea...</td>\n",
       "      <td>2017-10-01</td>\n",
       "    </tr>\n",
       "    <tr>\n",
       "      <th>1038</th>\n",
       "      <td>msaign</td>\n",
       "      <td>3</td>\n",
       "      <td>I've recently been diagnosed with severe Depre...</td>\n",
       "      <td>2017-06-08</td>\n",
       "    </tr>\n",
       "    <tr>\n",
       "      <th>1039</th>\n",
       "      <td>KoolNerdz</td>\n",
       "      <td>6</td>\n",
       "      <td>I'm a Freshmen in a shitty high school with sh...</td>\n",
       "      <td>2017-04-11</td>\n",
       "    </tr>\n",
       "  </tbody>\n",
       "</table>\n",
       "</div>"
      ],
      "text/plain": [
       "             author  num_comments  \\\n",
       "1035  anxious-wreck             0   \n",
       "1036  anxious-wreck             1   \n",
       "1037  anxious-wreck             0   \n",
       "1038         msaign             3   \n",
       "1039      KoolNerdz             6   \n",
       "\n",
       "                                               selftext        date  \n",
       "1035  i talked to my therapist today and i've been t...  2017-11-20  \n",
       "1036  i haven't even been diagnosed with depression ...  2017-10-09  \n",
       "1037  I know that it's kind of a long post but I rea...  2017-10-01  \n",
       "1038  I've recently been diagnosed with severe Depre...  2017-06-08  \n",
       "1039  I'm a Freshmen in a shitty high school with sh...  2017-04-11  "
      ]
     },
     "execution_count": 11,
     "metadata": {},
     "output_type": "execute_result"
    }
   ],
   "source": [
    "df.tail()"
   ]
  },
  {
   "cell_type": "code",
   "execution_count": 15,
   "metadata": {
    "scrolled": false
   },
   "outputs": [],
   "source": [
    "# sort data by author and data\n",
    "df = df.sort_values(by=['author','date'], ascending=[True,True])"
   ]
  },
  {
   "cell_type": "code",
   "execution_count": 16,
   "metadata": {},
   "outputs": [
    {
     "data": {
      "text/html": [
       "<div>\n",
       "<style scoped>\n",
       "    .dataframe tbody tr th:only-of-type {\n",
       "        vertical-align: middle;\n",
       "    }\n",
       "\n",
       "    .dataframe tbody tr th {\n",
       "        vertical-align: top;\n",
       "    }\n",
       "\n",
       "    .dataframe thead th {\n",
       "        text-align: right;\n",
       "    }\n",
       "</style>\n",
       "<table border=\"1\" class=\"dataframe\">\n",
       "  <thead>\n",
       "    <tr style=\"text-align: right;\">\n",
       "      <th></th>\n",
       "      <th>author</th>\n",
       "      <th>num_comments</th>\n",
       "      <th>selftext</th>\n",
       "      <th>date</th>\n",
       "    </tr>\n",
       "  </thead>\n",
       "  <tbody>\n",
       "    <tr>\n",
       "      <th>529</th>\n",
       "      <td>16thofmarch</td>\n",
       "      <td>1</td>\n",
       "      <td>I love my friend. She is such great company, a...</td>\n",
       "      <td>2019-08-08</td>\n",
       "    </tr>\n",
       "    <tr>\n",
       "      <th>791</th>\n",
       "      <td>420gitgudorDIE</td>\n",
       "      <td>0</td>\n",
       "      <td>[removed]</td>\n",
       "      <td>2017-12-04</td>\n",
       "    </tr>\n",
       "    <tr>\n",
       "      <th>551</th>\n",
       "      <td>420gitgudorDIE</td>\n",
       "      <td>10</td>\n",
       "      <td>would u agree if i say that out of 100 people ...</td>\n",
       "      <td>2019-08-06</td>\n",
       "    </tr>\n",
       "    <tr>\n",
       "      <th>167</th>\n",
       "      <td>420gitgudorDIE</td>\n",
       "      <td>2</td>\n",
       "      <td>Hi.\\n\\nAnyone here feels like in this hard hit...</td>\n",
       "      <td>2020-07-07</td>\n",
       "    </tr>\n",
       "    <tr>\n",
       "      <th>7</th>\n",
       "      <td>420gitgudorDIE</td>\n",
       "      <td>1</td>\n",
       "      <td>Ive been down in the deep end this past few we...</td>\n",
       "      <td>2021-04-30</td>\n",
       "    </tr>\n",
       "  </tbody>\n",
       "</table>\n",
       "</div>"
      ],
      "text/plain": [
       "             author  num_comments  \\\n",
       "529     16thofmarch             1   \n",
       "791  420gitgudorDIE             0   \n",
       "551  420gitgudorDIE            10   \n",
       "167  420gitgudorDIE             2   \n",
       "7    420gitgudorDIE             1   \n",
       "\n",
       "                                              selftext        date  \n",
       "529  I love my friend. She is such great company, a...  2019-08-08  \n",
       "791                                          [removed]  2017-12-04  \n",
       "551  would u agree if i say that out of 100 people ...  2019-08-06  \n",
       "167  Hi.\\n\\nAnyone here feels like in this hard hit...  2020-07-07  \n",
       "7    Ive been down in the deep end this past few we...  2021-04-30  "
      ]
     },
     "execution_count": 16,
     "metadata": {},
     "output_type": "execute_result"
    }
   ],
   "source": [
    "df.head()"
   ]
  },
  {
   "cell_type": "code",
   "execution_count": 17,
   "metadata": {},
   "outputs": [],
   "source": [
    "# re-indexing values\n",
    "df = df.reset_index(drop=True)"
   ]
  },
  {
   "cell_type": "code",
   "execution_count": 91,
   "metadata": {},
   "outputs": [],
   "source": [
    "# df.to_csv('./sorted_dataset.csv')"
   ]
  },
  {
   "cell_type": "code",
   "execution_count": 18,
   "metadata": {},
   "outputs": [
    {
     "data": {
      "text/plain": [
       "802"
      ]
     },
     "execution_count": 18,
     "metadata": {},
     "output_type": "execute_result"
    }
   ],
   "source": [
    "len(df)"
   ]
  },
  {
   "cell_type": "code",
   "execution_count": 19,
   "metadata": {},
   "outputs": [
    {
     "data": {
      "text/plain": [
       "author          0\n",
       "num_comments    0\n",
       "selftext        2\n",
       "date            0\n",
       "dtype: int64"
      ]
     },
     "execution_count": 19,
     "metadata": {},
     "output_type": "execute_result"
    }
   ],
   "source": [
    "# cehck for missing value\n",
    "df.isnull().sum()"
   ]
  },
  {
   "cell_type": "code",
   "execution_count": 20,
   "metadata": {},
   "outputs": [],
   "source": [
    "df.dropna(inplace=True)"
   ]
  },
  {
   "cell_type": "code",
   "execution_count": 21,
   "metadata": {},
   "outputs": [
    {
     "data": {
      "text/plain": [
       "author          0\n",
       "num_comments    0\n",
       "selftext        0\n",
       "date            0\n",
       "dtype: int64"
      ]
     },
     "execution_count": 21,
     "metadata": {},
     "output_type": "execute_result"
    }
   ],
   "source": [
    "df.isnull().sum()"
   ]
  },
  {
   "cell_type": "code",
   "execution_count": 20,
   "metadata": {},
   "outputs": [
    {
     "data": {
      "text/plain": [
       "1031"
      ]
     },
     "execution_count": 20,
     "metadata": {},
     "output_type": "execute_result"
    }
   ],
   "source": [
    "len(df)"
   ]
  },
  {
   "cell_type": "code",
   "execution_count": 22,
   "metadata": {},
   "outputs": [
    {
     "data": {
      "text/html": [
       "<div>\n",
       "<style scoped>\n",
       "    .dataframe tbody tr th:only-of-type {\n",
       "        vertical-align: middle;\n",
       "    }\n",
       "\n",
       "    .dataframe tbody tr th {\n",
       "        vertical-align: top;\n",
       "    }\n",
       "\n",
       "    .dataframe thead th {\n",
       "        text-align: right;\n",
       "    }\n",
       "</style>\n",
       "<table border=\"1\" class=\"dataframe\">\n",
       "  <thead>\n",
       "    <tr style=\"text-align: right;\">\n",
       "      <th></th>\n",
       "      <th>author</th>\n",
       "      <th>num_comments</th>\n",
       "      <th>selftext</th>\n",
       "      <th>date</th>\n",
       "    </tr>\n",
       "  </thead>\n",
       "  <tbody>\n",
       "    <tr>\n",
       "      <th>0</th>\n",
       "      <td>16thofmarch</td>\n",
       "      <td>1</td>\n",
       "      <td>I love my friend. She is such great company, a...</td>\n",
       "      <td>2019-08-08</td>\n",
       "    </tr>\n",
       "    <tr>\n",
       "      <th>1</th>\n",
       "      <td>420gitgudorDIE</td>\n",
       "      <td>0</td>\n",
       "      <td>[removed]</td>\n",
       "      <td>2017-12-04</td>\n",
       "    </tr>\n",
       "    <tr>\n",
       "      <th>2</th>\n",
       "      <td>420gitgudorDIE</td>\n",
       "      <td>10</td>\n",
       "      <td>would u agree if i say that out of 100 people ...</td>\n",
       "      <td>2019-08-06</td>\n",
       "    </tr>\n",
       "    <tr>\n",
       "      <th>3</th>\n",
       "      <td>420gitgudorDIE</td>\n",
       "      <td>2</td>\n",
       "      <td>Hi.\\n\\nAnyone here feels like in this hard hit...</td>\n",
       "      <td>2020-07-07</td>\n",
       "    </tr>\n",
       "    <tr>\n",
       "      <th>4</th>\n",
       "      <td>420gitgudorDIE</td>\n",
       "      <td>1</td>\n",
       "      <td>Ive been down in the deep end this past few we...</td>\n",
       "      <td>2021-04-30</td>\n",
       "    </tr>\n",
       "  </tbody>\n",
       "</table>\n",
       "</div>"
      ],
      "text/plain": [
       "           author  num_comments  \\\n",
       "0     16thofmarch             1   \n",
       "1  420gitgudorDIE             0   \n",
       "2  420gitgudorDIE            10   \n",
       "3  420gitgudorDIE             2   \n",
       "4  420gitgudorDIE             1   \n",
       "\n",
       "                                            selftext        date  \n",
       "0  I love my friend. She is such great company, a...  2019-08-08  \n",
       "1                                          [removed]  2017-12-04  \n",
       "2  would u agree if i say that out of 100 people ...  2019-08-06  \n",
       "3  Hi.\\n\\nAnyone here feels like in this hard hit...  2020-07-07  \n",
       "4  Ive been down in the deep end this past few we...  2021-04-30  "
      ]
     },
     "execution_count": 22,
     "metadata": {},
     "output_type": "execute_result"
    }
   ],
   "source": [
    "df.head()"
   ]
  },
  {
   "cell_type": "code",
   "execution_count": 23,
   "metadata": {},
   "outputs": [
    {
     "data": {
      "text/plain": [
       "0"
      ]
     },
     "execution_count": 23,
     "metadata": {},
     "output_type": "execute_result"
    }
   ],
   "source": [
    "# check for empty string literals\n",
    "empty = []\n",
    "\n",
    "for i,au,nc,tx,dt in df.itertuples():\n",
    "    if type(tx) == str:\n",
    "        if tx.isspace():\n",
    "            empty.append(tx)\n",
    "len(empty)\n",
    "# df.drop(empty, inplace=True) --> but we have 0 cases"
   ]
  },
  {
   "cell_type": "code",
   "execution_count": 67,
   "metadata": {},
   "outputs": [],
   "source": [
    "# check for removed text between square brackets(?) ---> [removed]"
   ]
  },
  {
   "cell_type": "code",
   "execution_count": 24,
   "metadata": {},
   "outputs": [],
   "source": [
    "df.to_csv('./sorted_non-depressed-authors-submissions.csv')"
   ]
  },
  {
   "cell_type": "markdown",
   "metadata": {},
   "source": [
    "---"
   ]
  },
  {
   "cell_type": "code",
   "execution_count": 59,
   "metadata": {},
   "outputs": [],
   "source": [
    "# perform sentiment analisys"
   ]
  },
  {
   "cell_type": "code",
   "execution_count": 49,
   "metadata": {},
   "outputs": [],
   "source": [
    "import nltk"
   ]
  },
  {
   "cell_type": "code",
   "execution_count": 51,
   "metadata": {},
   "outputs": [],
   "source": [
    "# from vocab import stop_words"
   ]
  },
  {
   "cell_type": "code",
   "execution_count": 54,
   "metadata": {},
   "outputs": [],
   "source": [
    "from nltk.sentiment.vader import SentimentIntensityAnalyzer"
   ]
  },
  {
   "cell_type": "code",
   "execution_count": 55,
   "metadata": {},
   "outputs": [],
   "source": [
    "def get_sentiment(text):\n",
    "    \n",
    "    \"\"\" \n",
    "    Apply this function on signle sentences.\n",
    "    It returns a compound score\n",
    "    \"\"\"\n",
    "    \n",
    "    analyzer = SentimentIntensityAnalyzer()\n",
    "    score = analyzer.polarity_scores(text)['compound']\n",
    "    \n",
    "    return score"
   ]
  },
  {
   "cell_type": "code",
   "execution_count": 56,
   "metadata": {},
   "outputs": [],
   "source": [
    "from statistics import mean"
   ]
  },
  {
   "cell_type": "code",
   "execution_count": 57,
   "metadata": {},
   "outputs": [],
   "source": [
    "# analize the average sentiment of each sentence in text (we need punctuation to do that!)\n",
    "\n",
    "def average_sentiment(text):\n",
    "    \n",
    "    \"\"\" \n",
    "    Apply this function on full text to analyze each sentence \n",
    "    It returns the mean sentiment for that text\n",
    "    \"\"\"\n",
    "    # we should not remove the puntuation from each sentence\n",
    "    score = [get_sentiment(sent) for sent in nltk.sent_tokenize(text)]\n",
    "    return mean(score)"
   ]
  },
  {
   "cell_type": "code",
   "execution_count": 58,
   "metadata": {},
   "outputs": [],
   "source": [
    "# average_sentiment(sentence)"
   ]
  },
  {
   "cell_type": "code",
   "execution_count": 59,
   "metadata": {},
   "outputs": [],
   "source": [
    "df['senti_score'] = df['selftext'].apply(lambda text: average_sentiment(text))\n",
    "\n",
    "# change selftext to df['text'] if applying get_average"
   ]
  },
  {
   "cell_type": "code",
   "execution_count": 60,
   "metadata": {},
   "outputs": [
    {
     "data": {
      "text/html": [
       "<div>\n",
       "<style scoped>\n",
       "    .dataframe tbody tr th:only-of-type {\n",
       "        vertical-align: middle;\n",
       "    }\n",
       "\n",
       "    .dataframe tbody tr th {\n",
       "        vertical-align: top;\n",
       "    }\n",
       "\n",
       "    .dataframe thead th {\n",
       "        text-align: right;\n",
       "    }\n",
       "</style>\n",
       "<table border=\"1\" class=\"dataframe\">\n",
       "  <thead>\n",
       "    <tr style=\"text-align: right;\">\n",
       "      <th></th>\n",
       "      <th>author</th>\n",
       "      <th>score</th>\n",
       "      <th>selftext</th>\n",
       "      <th>date</th>\n",
       "      <th>senti_score</th>\n",
       "    </tr>\n",
       "  </thead>\n",
       "  <tbody>\n",
       "    <tr>\n",
       "      <th>0</th>\n",
       "      <td>#NAME?</td>\n",
       "      <td>1</td>\n",
       "      <td>3 years ago i was diagnosed with typhoid. i di...</td>\n",
       "      <td>2020-08-09</td>\n",
       "      <td>-0.007111</td>\n",
       "    </tr>\n",
       "    <tr>\n",
       "      <th>1</th>\n",
       "      <td>#NAME?</td>\n",
       "      <td>1</td>\n",
       "      <td>Hi everyone, I just recently started therapy a...</td>\n",
       "      <td>2020-10-05</td>\n",
       "      <td>-0.038983</td>\n",
       "    </tr>\n",
       "    <tr>\n",
       "      <th>2</th>\n",
       "      <td>-DildoGaggins-</td>\n",
       "      <td>1</td>\n",
       "      <td>Hello. So I'm pretty much fucked.\\nI have no s...</td>\n",
       "      <td>2020-08-28</td>\n",
       "      <td>-0.215954</td>\n",
       "    </tr>\n",
       "    <tr>\n",
       "      <th>3</th>\n",
       "      <td>0Shaolin7</td>\n",
       "      <td>1</td>\n",
       "      <td>Hi, I’m new here.\\nI’m not native English spea...</td>\n",
       "      <td>2021-06-23</td>\n",
       "      <td>0.039933</td>\n",
       "    </tr>\n",
       "    <tr>\n",
       "      <th>4</th>\n",
       "      <td>0jolsks0</td>\n",
       "      <td>1</td>\n",
       "      <td>*Please advise me if there’s a better sub to d...</td>\n",
       "      <td>2020-10-06</td>\n",
       "      <td>0.034884</td>\n",
       "    </tr>\n",
       "  </tbody>\n",
       "</table>\n",
       "</div>"
      ],
      "text/plain": [
       "           author  score                                           selftext  \\\n",
       "0          #NAME?      1  3 years ago i was diagnosed with typhoid. i di...   \n",
       "1          #NAME?      1  Hi everyone, I just recently started therapy a...   \n",
       "2  -DildoGaggins-      1  Hello. So I'm pretty much fucked.\\nI have no s...   \n",
       "3       0Shaolin7      1  Hi, I’m new here.\\nI’m not native English spea...   \n",
       "4        0jolsks0      1  *Please advise me if there’s a better sub to d...   \n",
       "\n",
       "         date  senti_score  \n",
       "0  2020-08-09    -0.007111  \n",
       "1  2020-10-05    -0.038983  \n",
       "2  2020-08-28    -0.215954  \n",
       "3  2021-06-23     0.039933  \n",
       "4  2020-10-06     0.034884  "
      ]
     },
     "execution_count": 60,
     "metadata": {},
     "output_type": "execute_result"
    }
   ],
   "source": [
    "df.head()"
   ]
  },
  {
   "cell_type": "code",
   "execution_count": 61,
   "metadata": {},
   "outputs": [
    {
     "data": {
      "text/html": [
       "<div>\n",
       "<style scoped>\n",
       "    .dataframe tbody tr th:only-of-type {\n",
       "        vertical-align: middle;\n",
       "    }\n",
       "\n",
       "    .dataframe tbody tr th {\n",
       "        vertical-align: top;\n",
       "    }\n",
       "\n",
       "    .dataframe thead th {\n",
       "        text-align: right;\n",
       "    }\n",
       "</style>\n",
       "<table border=\"1\" class=\"dataframe\">\n",
       "  <thead>\n",
       "    <tr style=\"text-align: right;\">\n",
       "      <th></th>\n",
       "      <th>author</th>\n",
       "      <th>score</th>\n",
       "      <th>selftext</th>\n",
       "      <th>date</th>\n",
       "      <th>senti_score</th>\n",
       "    </tr>\n",
       "  </thead>\n",
       "  <tbody>\n",
       "    <tr>\n",
       "      <th>1995</th>\n",
       "      <td>zeldaswife</td>\n",
       "      <td>1</td>\n",
       "      <td>I'm gonna start off by saying I was diagnosed ...</td>\n",
       "      <td>2020-09-15</td>\n",
       "      <td>-0.054679</td>\n",
       "    </tr>\n",
       "    <tr>\n",
       "      <th>1996</th>\n",
       "      <td>ziebu</td>\n",
       "      <td>1</td>\n",
       "      <td>what’s the meaning of life? i don’t really kno...</td>\n",
       "      <td>2020-09-01</td>\n",
       "      <td>-0.092070</td>\n",
       "    </tr>\n",
       "    <tr>\n",
       "      <th>1997</th>\n",
       "      <td>zurilhabibi</td>\n",
       "      <td>1</td>\n",
       "      <td>I grew up with abusive parents who used all ki...</td>\n",
       "      <td>2020-09-19</td>\n",
       "      <td>-0.605844</td>\n",
       "    </tr>\n",
       "    <tr>\n",
       "      <th>1998</th>\n",
       "      <td>zxitsbeastxz</td>\n",
       "      <td>1</td>\n",
       "      <td>I was diagnosed with depression two years ago,...</td>\n",
       "      <td>2020-10-24</td>\n",
       "      <td>-0.073468</td>\n",
       "    </tr>\n",
       "    <tr>\n",
       "      <th>1999</th>\n",
       "      <td>zyxwvutsrqp11</td>\n",
       "      <td>2</td>\n",
       "      <td>i feel like the universe is against me somehow...</td>\n",
       "      <td>2021-02-27</td>\n",
       "      <td>-0.143847</td>\n",
       "    </tr>\n",
       "  </tbody>\n",
       "</table>\n",
       "</div>"
      ],
      "text/plain": [
       "             author  score                                           selftext  \\\n",
       "1995     zeldaswife      1  I'm gonna start off by saying I was diagnosed ...   \n",
       "1996          ziebu      1  what’s the meaning of life? i don’t really kno...   \n",
       "1997    zurilhabibi      1  I grew up with abusive parents who used all ki...   \n",
       "1998   zxitsbeastxz      1  I was diagnosed with depression two years ago,...   \n",
       "1999  zyxwvutsrqp11      2  i feel like the universe is against me somehow...   \n",
       "\n",
       "            date  senti_score  \n",
       "1995  2020-09-15    -0.054679  \n",
       "1996  2020-09-01    -0.092070  \n",
       "1997  2020-09-19    -0.605844  \n",
       "1998  2020-10-24    -0.073468  \n",
       "1999  2021-02-27    -0.143847  "
      ]
     },
     "execution_count": 61,
     "metadata": {},
     "output_type": "execute_result"
    }
   ],
   "source": [
    "df.tail()"
   ]
  },
  {
   "cell_type": "code",
   "execution_count": 31,
   "metadata": {},
   "outputs": [],
   "source": [
    "# sorted and reindexed dataset + senti_score class\n",
    "# df.to_csv('./sorted_dataset--submissions.csv')"
   ]
  },
  {
   "cell_type": "code",
   "execution_count": 62,
   "metadata": {},
   "outputs": [
    {
     "name": "stdout",
     "output_type": "stream",
     "text": [
      "positive: 460, negative: 1540\n"
     ]
    }
   ],
   "source": [
    "pos_score = []\n",
    "neg_score = []\n",
    "\n",
    "for score in df['senti_score']:\n",
    "    if score >= 0:\n",
    "        pos_score.append(score)\n",
    "        \n",
    "    else:\n",
    "        neg_score.append(score)\n",
    "        \n",
    "print(f'positive: {len(pos_score)}, negative: {len(neg_score)}')\n",
    "# positive: 100, negative: 168"
   ]
  },
  {
   "cell_type": "code",
   "execution_count": 112,
   "metadata": {
    "collapsed": true
   },
   "outputs": [
    {
     "name": "stdout",
     "output_type": "stream",
     "text": [
      "<class 'pandas.core.frame.DataFrame'>\n",
      "Int64Index: 268 entries, 0 to 268\n",
      "Data columns (total 4 columns):\n",
      " #   Column       Non-Null Count  Dtype  \n",
      "---  ------       --------------  -----  \n",
      " 0   author       268 non-null    object \n",
      " 1   selftext     268 non-null    object \n",
      " 2   date         268 non-null    object \n",
      " 3   senti_score  268 non-null    float64\n",
      "dtypes: float64(1), object(3)\n",
      "memory usage: 20.5+ KB\n"
     ]
    }
   ],
   "source": [
    "# df.info()"
   ]
  },
  {
   "cell_type": "code",
   "execution_count": 164,
   "metadata": {},
   "outputs": [],
   "source": [
    "random_user_s = df[84:105]"
   ]
  },
  {
   "cell_type": "code",
   "execution_count": 165,
   "metadata": {},
   "outputs": [
    {
     "data": {
      "text/html": [
       "<div>\n",
       "<style scoped>\n",
       "    .dataframe tbody tr th:only-of-type {\n",
       "        vertical-align: middle;\n",
       "    }\n",
       "\n",
       "    .dataframe tbody tr th {\n",
       "        vertical-align: top;\n",
       "    }\n",
       "\n",
       "    .dataframe thead th {\n",
       "        text-align: right;\n",
       "    }\n",
       "</style>\n",
       "<table border=\"1\" class=\"dataframe\">\n",
       "  <thead>\n",
       "    <tr style=\"text-align: right;\">\n",
       "      <th></th>\n",
       "      <th>author</th>\n",
       "      <th>selftext</th>\n",
       "      <th>date</th>\n",
       "      <th>senti_score</th>\n",
       "    </tr>\n",
       "  </thead>\n",
       "  <tbody>\n",
       "    <tr>\n",
       "      <th>85</th>\n",
       "      <td>PM_ME_YOUR_TUTURUS</td>\n",
       "      <td>I have fought this fucking disease since I was...</td>\n",
       "      <td>2020-03-08</td>\n",
       "      <td>-0.340038</td>\n",
       "    </tr>\n",
       "    <tr>\n",
       "      <th>86</th>\n",
       "      <td>PM_ME_YOUR_TUTURUS</td>\n",
       "      <td>When do you accept that you will be depressed ...</td>\n",
       "      <td>2020-03-31</td>\n",
       "      <td>-0.463311</td>\n",
       "    </tr>\n",
       "    <tr>\n",
       "      <th>87</th>\n",
       "      <td>PM_ME_YOUR_TUTURUS</td>\n",
       "      <td>Seriously, I've been on every single SSRI, SNR...</td>\n",
       "      <td>2020-04-02</td>\n",
       "      <td>-0.382133</td>\n",
       "    </tr>\n",
       "    <tr>\n",
       "      <th>88</th>\n",
       "      <td>PM_ME_YOUR_TUTURUS</td>\n",
       "      <td>[removed]</td>\n",
       "      <td>2020-04-07</td>\n",
       "      <td>0.000000</td>\n",
       "    </tr>\n",
       "    <tr>\n",
       "      <th>89</th>\n",
       "      <td>PM_ME_YOUR_TUTURUS</td>\n",
       "      <td>In a few days, I will be 21. I will have suffe...</td>\n",
       "      <td>2020-05-02</td>\n",
       "      <td>-0.300820</td>\n",
       "    </tr>\n",
       "  </tbody>\n",
       "</table>\n",
       "</div>"
      ],
      "text/plain": [
       "                author                                           selftext  \\\n",
       "85  PM_ME_YOUR_TUTURUS  I have fought this fucking disease since I was...   \n",
       "86  PM_ME_YOUR_TUTURUS  When do you accept that you will be depressed ...   \n",
       "87  PM_ME_YOUR_TUTURUS  Seriously, I've been on every single SSRI, SNR...   \n",
       "88  PM_ME_YOUR_TUTURUS                                          [removed]   \n",
       "89  PM_ME_YOUR_TUTURUS  In a few days, I will be 21. I will have suffe...   \n",
       "\n",
       "          date  senti_score  \n",
       "85  2020-03-08    -0.340038  \n",
       "86  2020-03-31    -0.463311  \n",
       "87  2020-04-02    -0.382133  \n",
       "88  2020-04-07     0.000000  \n",
       "89  2020-05-02    -0.300820  "
      ]
     },
     "execution_count": 165,
     "metadata": {},
     "output_type": "execute_result"
    }
   ],
   "source": [
    "random_user_s.head()"
   ]
  },
  {
   "cell_type": "code",
   "execution_count": 167,
   "metadata": {},
   "outputs": [
    {
     "name": "stdout",
     "output_type": "stream",
     "text": [
      "positive: 5, negative: 16\n"
     ]
    }
   ],
   "source": [
    "pos_sub = []\n",
    "neg_sub = []\n",
    "\n",
    "for score in random_user_s['senti_score']:\n",
    "    if score >= 0:\n",
    "        pos_sub.append(score)\n",
    "        \n",
    "    else:\n",
    "        neg_sub.append(score)\n",
    "        \n",
    "print(f'positive: {len(pos_sub)}, negative: {len(neg_sub)}')"
   ]
  },
  {
   "cell_type": "code",
   "execution_count": 156,
   "metadata": {},
   "outputs": [],
   "source": [
    "import matplotlib.pyplot as plt"
   ]
  },
  {
   "cell_type": "code",
   "execution_count": 157,
   "metadata": {},
   "outputs": [
    {
     "data": {
      "image/png": "[encoded data removed]",
      "text/plain": [
       "<Figure size 864x432 with 1 Axes>"
      ]
     },
     "metadata": {
      "needs_background": "light"
     },
     "output_type": "display_data"
    }
   ],
   "source": [
    "# create a time series plot using random_user variable\n",
    "# 1) create figure and plot space\n",
    "fig, ax = plt.subplots(figsize=(12,6))\n",
    "\n",
    "# 2) add x-axis and y-axis\n",
    "ax.plot(random_user_s['date'], # x-axis\n",
    "        random_user_s['senti_score'],\n",
    "        label = 'submissions',\n",
    "        color='orangered') # y-axis\n",
    "\n",
    "ax.axhline(0, color='k', linestyle='--', linewidth=1, label='discrimination line')\n",
    "\n",
    "# 3) set titles and labels\n",
    "ax.set(xlabel='time',\n",
    "       ylabel='sentiment score',\n",
    "#        ylim=(('1', '-1')),\n",
    "       title='sentiment score over time, user: PM_ME_YOUR_TUTURUS')\n",
    "\n",
    "plt.legend(loc='upper left')\n",
    "ax.grid(True)\n",
    "plt.savefig('sentiment score over time--submissions.png')\n",
    "plt.xticks(rotation = 45)\n",
    "plt.show()"
   ]
  },
  {
   "cell_type": "code",
   "execution_count": 143,
   "metadata": {},
   "outputs": [],
   "source": [
    "# this are only submission and they're almost always negative because they're below 0\n",
    "# what about the comments? Are they negative, below 0 too?\n",
    "# what's the difference in sentiment score over time between submissions and comments?\n",
    "# Harold says that depressed users tend to focus on other people's issues when writing comments\n",
    "# what's the language they use in comments? is it more emotional or social?\n",
    "\n",
    "# H1: submission of depressed users tend to have a negative score and an emotional language type --->\n",
    "# depressed people tend to self-focus and negative thoughts\n",
    "\n",
    "# H1: comments of depressed users tend to have a positive score and a social language type --->\n",
    "# they're more willing to help others with similar issues\n",
    "\n",
    "# are negative comments part of the self-disclosure? --> to see if they're supportive towards other\n",
    "# poeple get the emotion as well"
   ]
  },
  {
   "cell_type": "code",
   "execution_count": 97,
   "metadata": {},
   "outputs": [],
   "source": [
    "def time_series_plot(data, user_name):\n",
    "    \n",
    "    \"\"\" this function plots a time series plot \"\"\"\n",
    "    \n",
    "    fig, ax = plt.subplots(figsize=(12,6))\n",
    "\n",
    "    ax.plot(data['date'],\n",
    "            data['senti_score'],\n",
    "            color='orangered')\n",
    "    \n",
    "    ax.axhline(0, color='k', linestyle='--', linewidth=1, label='discrimination line')\n",
    "    \n",
    "\n",
    "    ax.set(xlabel='time',\n",
    "           ylabel='sentiment score',\n",
    "           title=f'sentiment score over time, user: {user_name}')\n",
    "\n",
    "    ax.grid(True)\n",
    "    plt.xticks(rotation = 45)\n",
    "    # save image as png\n",
    "    plt.savefig('sentiment score over time.png')\n",
    "    plt.show()"
   ]
  },
  {
   "cell_type": "markdown",
   "metadata": {},
   "source": [
    "---"
   ]
  },
  {
   "cell_type": "markdown",
   "metadata": {},
   "source": [
    "# dataset of comments"
   ]
  },
  {
   "cell_type": "code",
   "execution_count": 112,
   "metadata": {},
   "outputs": [],
   "source": [
    "df_comments = pd.read_csv('./depression_authors_comments.csv')"
   ]
  },
  {
   "cell_type": "code",
   "execution_count": 113,
   "metadata": {},
   "outputs": [],
   "source": [
    "del df_comments['id']"
   ]
  },
  {
   "cell_type": "code",
   "execution_count": 114,
   "metadata": {},
   "outputs": [
    {
     "data": {
      "text/plain": [
       "'2018-08-23'"
      ]
     },
     "execution_count": 114,
     "metadata": {},
     "output_type": "execute_result"
    }
   ],
   "source": [
    "# conver utc to date \n",
    "convert_to_date(df_comments['created_utc'][0])"
   ]
  },
  {
   "cell_type": "code",
   "execution_count": 115,
   "metadata": {},
   "outputs": [],
   "source": [
    "# create a new column with converted utc\n",
    "df_comments['date'] = df_comments['created_utc'].apply(lambda date: convert_to_date(date))"
   ]
  },
  {
   "cell_type": "code",
   "execution_count": 116,
   "metadata": {},
   "outputs": [],
   "source": [
    "del df_comments['created_utc']"
   ]
  },
  {
   "cell_type": "code",
   "execution_count": 117,
   "metadata": {},
   "outputs": [
    {
     "data": {
      "text/plain": [
       "author                 0\n",
       "body                   0\n",
       "submission/comments    0\n",
       "date                   0\n",
       "dtype: int64"
      ]
     },
     "execution_count": 117,
     "metadata": {},
     "output_type": "execute_result"
    }
   ],
   "source": [
    "# cleaning --- missing values\n",
    "df_comments.isnull().sum()"
   ]
  },
  {
   "cell_type": "code",
   "execution_count": 62,
   "metadata": {},
   "outputs": [
    {
     "name": "stdout",
     "output_type": "stream",
     "text": [
      "empty text are: 0, removed are: 0\n"
     ]
    }
   ],
   "source": [
    "# empty string? removed?\n",
    "\n",
    "empty = []\n",
    "removed = []\n",
    "\n",
    "for text in df_comments['body']:\n",
    "    if text.isspace():\n",
    "        empty.append(text)\n",
    "    elif text == '[removed]':\n",
    "        removed.append(text)\n",
    "        \n",
    "print(f'empty text are: {len(empty)}, removed are: {len(removed)}')"
   ]
  },
  {
   "cell_type": "code",
   "execution_count": 118,
   "metadata": {},
   "outputs": [
    {
     "data": {
      "text/html": [
       "<div>\n",
       "<style scoped>\n",
       "    .dataframe tbody tr th:only-of-type {\n",
       "        vertical-align: middle;\n",
       "    }\n",
       "\n",
       "    .dataframe tbody tr th {\n",
       "        vertical-align: top;\n",
       "    }\n",
       "\n",
       "    .dataframe thead th {\n",
       "        text-align: right;\n",
       "    }\n",
       "</style>\n",
       "<table border=\"1\" class=\"dataframe\">\n",
       "  <thead>\n",
       "    <tr style=\"text-align: right;\">\n",
       "      <th></th>\n",
       "      <th>author</th>\n",
       "      <th>body</th>\n",
       "      <th>submission/comments</th>\n",
       "      <th>date</th>\n",
       "    </tr>\n",
       "  </thead>\n",
       "  <tbody>\n",
       "    <tr>\n",
       "      <th>0</th>\n",
       "      <td>UnfoundHound</td>\n",
       "      <td>Try to carry her memory with you. She wants yo...</td>\n",
       "      <td>comment</td>\n",
       "      <td>2018-08-23</td>\n",
       "    </tr>\n",
       "    <tr>\n",
       "      <th>1</th>\n",
       "      <td>UnfoundHound</td>\n",
       "      <td>I understand that you feel that way. I have th...</td>\n",
       "      <td>comment</td>\n",
       "      <td>2018-08-24</td>\n",
       "    </tr>\n",
       "    <tr>\n",
       "      <th>2</th>\n",
       "      <td>UnfoundHound</td>\n",
       "      <td>By all means.</td>\n",
       "      <td>comment</td>\n",
       "      <td>2018-08-25</td>\n",
       "    </tr>\n",
       "    <tr>\n",
       "      <th>3</th>\n",
       "      <td>UnfoundHound</td>\n",
       "      <td>Well, she is a very caring person and she did ...</td>\n",
       "      <td>comment</td>\n",
       "      <td>2018-08-25</td>\n",
       "    </tr>\n",
       "    <tr>\n",
       "      <th>4</th>\n",
       "      <td>UnfoundHound</td>\n",
       "      <td>Maybe I am. It's almost impossible to know wha...</td>\n",
       "      <td>comment</td>\n",
       "      <td>2018-08-25</td>\n",
       "    </tr>\n",
       "  </tbody>\n",
       "</table>\n",
       "</div>"
      ],
      "text/plain": [
       "         author                                               body  \\\n",
       "0  UnfoundHound  Try to carry her memory with you. She wants yo...   \n",
       "1  UnfoundHound  I understand that you feel that way. I have th...   \n",
       "2  UnfoundHound                                      By all means.   \n",
       "3  UnfoundHound  Well, she is a very caring person and she did ...   \n",
       "4  UnfoundHound  Maybe I am. It's almost impossible to know wha...   \n",
       "\n",
       "  submission/comments        date  \n",
       "0             comment  2018-08-23  \n",
       "1             comment  2018-08-24  \n",
       "2             comment  2018-08-25  \n",
       "3             comment  2018-08-25  \n",
       "4             comment  2018-08-25  "
      ]
     },
     "execution_count": 118,
     "metadata": {},
     "output_type": "execute_result"
    }
   ],
   "source": [
    "df_comments.head()"
   ]
  },
  {
   "cell_type": "code",
   "execution_count": 119,
   "metadata": {},
   "outputs": [],
   "source": [
    "# sort the dataset\n",
    "df_comments = df_comments.sort_values(by=['author','date'], ascending=[True,True])"
   ]
  },
  {
   "cell_type": "code",
   "execution_count": 120,
   "metadata": {},
   "outputs": [],
   "source": [
    "# reset indexing\n",
    "df_comments = df_comments.reset_index(drop=True)"
   ]
  },
  {
   "cell_type": "code",
   "execution_count": 121,
   "metadata": {},
   "outputs": [],
   "source": [
    "# apply senti_score\n",
    "df_comments['senti_score'] = df_comments['body'].apply(lambda text: average_sentiment(text))"
   ]
  },
  {
   "cell_type": "code",
   "execution_count": 53,
   "metadata": {},
   "outputs": [],
   "source": [
    "# save dataset\n",
    "# df_comments.to_csv('./sorted_dataset--comments.csv')"
   ]
  },
  {
   "cell_type": "code",
   "execution_count": 122,
   "metadata": {},
   "outputs": [
    {
     "name": "stdout",
     "output_type": "stream",
     "text": [
      "positive: 463, negative: 194\n"
     ]
    }
   ],
   "source": [
    "pos_score = []\n",
    "neg_score = []\n",
    "\n",
    "for score in df_comments['senti_score']:\n",
    "    if score >= 0:\n",
    "    # if score >= 0.5 --> positive: 70, negative: 587\n",
    "        pos_score.append(score)\n",
    "        \n",
    "    else:\n",
    "        neg_score.append(score)\n",
    "        \n",
    "print(f'positive: {len(pos_score)}, negative: {len(neg_score)}')"
   ]
  },
  {
   "cell_type": "code",
   "execution_count": 174,
   "metadata": {
    "collapsed": true
   },
   "outputs": [
    {
     "data": {
      "text/html": [
       "<div>\n",
       "<style scoped>\n",
       "    .dataframe tbody tr th:only-of-type {\n",
       "        vertical-align: middle;\n",
       "    }\n",
       "\n",
       "    .dataframe tbody tr th {\n",
       "        vertical-align: top;\n",
       "    }\n",
       "\n",
       "    .dataframe thead th {\n",
       "        text-align: right;\n",
       "    }\n",
       "</style>\n",
       "<table border=\"1\" class=\"dataframe\">\n",
       "  <thead>\n",
       "    <tr style=\"text-align: right;\">\n",
       "      <th></th>\n",
       "      <th>author</th>\n",
       "      <th>body</th>\n",
       "      <th>submission/comments</th>\n",
       "      <th>date</th>\n",
       "      <th>senti_score</th>\n",
       "    </tr>\n",
       "  </thead>\n",
       "  <tbody>\n",
       "    <tr>\n",
       "      <th>226</th>\n",
       "      <td>PM_ME_YOUR_TUTURUS</td>\n",
       "      <td>How do I find a good one when it's extremely e...</td>\n",
       "      <td>comment</td>\n",
       "      <td>2019-11-24</td>\n",
       "      <td>0.167750</td>\n",
       "    </tr>\n",
       "    <tr>\n",
       "      <th>227</th>\n",
       "      <td>PM_ME_YOUR_TUTURUS</td>\n",
       "      <td>my partner and many others have insisted that ...</td>\n",
       "      <td>comment</td>\n",
       "      <td>2019-11-24</td>\n",
       "      <td>-0.013000</td>\n",
       "    </tr>\n",
       "    <tr>\n",
       "      <th>228</th>\n",
       "      <td>PM_ME_YOUR_TUTURUS</td>\n",
       "      <td>I have a partner as well, and it's actually qu...</td>\n",
       "      <td>comment</td>\n",
       "      <td>2020-02-06</td>\n",
       "      <td>-0.862900</td>\n",
       "    </tr>\n",
       "    <tr>\n",
       "      <th>229</th>\n",
       "      <td>PM_ME_YOUR_TUTURUS</td>\n",
       "      <td>thank you</td>\n",
       "      <td>comment</td>\n",
       "      <td>2020-03-08</td>\n",
       "      <td>0.361200</td>\n",
       "    </tr>\n",
       "    <tr>\n",
       "      <th>230</th>\n",
       "      <td>PM_ME_YOUR_TUTURUS</td>\n",
       "      <td>It is hard because doctors are my PTSD trigger...</td>\n",
       "      <td>comment</td>\n",
       "      <td>2020-03-31</td>\n",
       "      <td>-0.255800</td>\n",
       "    </tr>\n",
       "    <tr>\n",
       "      <th>231</th>\n",
       "      <td>PM_ME_YOUR_TUTURUS</td>\n",
       "      <td>Thank you, I am studying Neuroscience at Unive...</td>\n",
       "      <td>comment</td>\n",
       "      <td>2020-03-31</td>\n",
       "      <td>-0.096750</td>\n",
       "    </tr>\n",
       "    <tr>\n",
       "      <th>232</th>\n",
       "      <td>PM_ME_YOUR_TUTURUS</td>\n",
       "      <td>I am actually worse off because so much of my ...</td>\n",
       "      <td>comment</td>\n",
       "      <td>2020-03-31</td>\n",
       "      <td>-0.144067</td>\n",
       "    </tr>\n",
       "    <tr>\n",
       "      <th>233</th>\n",
       "      <td>PM_ME_YOUR_TUTURUS</td>\n",
       "      <td>Growing up in a very religious place, the 'you...</td>\n",
       "      <td>comment</td>\n",
       "      <td>2020-03-31</td>\n",
       "      <td>-0.477413</td>\n",
       "    </tr>\n",
       "    <tr>\n",
       "      <th>234</th>\n",
       "      <td>PM_ME_YOUR_TUTURUS</td>\n",
       "      <td>Everyday's a quaratine when you're autistic!</td>\n",
       "      <td>comment</td>\n",
       "      <td>2020-04-02</td>\n",
       "      <td>0.000000</td>\n",
       "    </tr>\n",
       "    <tr>\n",
       "      <th>235</th>\n",
       "      <td>PM_ME_YOUR_TUTURUS</td>\n",
       "      <td>I feel that. It's incredibly difficult to voic...</td>\n",
       "      <td>comment</td>\n",
       "      <td>2020-04-04</td>\n",
       "      <td>-0.010757</td>\n",
       "    </tr>\n",
       "    <tr>\n",
       "      <th>236</th>\n",
       "      <td>PM_ME_YOUR_TUTURUS</td>\n",
       "      <td>Saying that depression is just a chemical imba...</td>\n",
       "      <td>comment</td>\n",
       "      <td>2020-04-06</td>\n",
       "      <td>-0.294867</td>\n",
       "    </tr>\n",
       "    <tr>\n",
       "      <th>237</th>\n",
       "      <td>PM_ME_YOUR_TUTURUS</td>\n",
       "      <td>I feel you friend.\\n\\nAt least during the quar...</td>\n",
       "      <td>comment</td>\n",
       "      <td>2020-04-09</td>\n",
       "      <td>0.476350</td>\n",
       "    </tr>\n",
       "    <tr>\n",
       "      <th>238</th>\n",
       "      <td>PM_ME_YOUR_TUTURUS</td>\n",
       "      <td>I moved across the world and still don't feel ...</td>\n",
       "      <td>comment</td>\n",
       "      <td>2020-04-13</td>\n",
       "      <td>-0.493600</td>\n",
       "    </tr>\n",
       "    <tr>\n",
       "      <th>239</th>\n",
       "      <td>PM_ME_YOUR_TUTURUS</td>\n",
       "      <td>It's honestly a toss up of whether or not they...</td>\n",
       "      <td>comment</td>\n",
       "      <td>2020-04-14</td>\n",
       "      <td>0.048131</td>\n",
       "    </tr>\n",
       "    <tr>\n",
       "      <th>240</th>\n",
       "      <td>PM_ME_YOUR_TUTURUS</td>\n",
       "      <td>People think if you don't immediately 'snap ou...</td>\n",
       "      <td>comment</td>\n",
       "      <td>2020-04-17</td>\n",
       "      <td>-0.259950</td>\n",
       "    </tr>\n",
       "    <tr>\n",
       "      <th>241</th>\n",
       "      <td>PM_ME_YOUR_TUTURUS</td>\n",
       "      <td>Love yourself, so I don't have to love you ins...</td>\n",
       "      <td>comment</td>\n",
       "      <td>2020-04-20</td>\n",
       "      <td>0.305950</td>\n",
       "    </tr>\n",
       "    <tr>\n",
       "      <th>242</th>\n",
       "      <td>PM_ME_YOUR_TUTURUS</td>\n",
       "      <td>I was around the same age, about ten and a hal...</td>\n",
       "      <td>comment</td>\n",
       "      <td>2020-04-28</td>\n",
       "      <td>0.018867</td>\n",
       "    </tr>\n",
       "    <tr>\n",
       "      <th>243</th>\n",
       "      <td>PM_ME_YOUR_TUTURUS</td>\n",
       "      <td>I know exactly how you feel, I don't have a go...</td>\n",
       "      <td>comment</td>\n",
       "      <td>2020-05-19</td>\n",
       "      <td>-0.262833</td>\n",
       "    </tr>\n",
       "    <tr>\n",
       "      <th>244</th>\n",
       "      <td>PM_ME_YOUR_TUTURUS</td>\n",
       "      <td>Because it's apparently in-style to charicatur...</td>\n",
       "      <td>comment</td>\n",
       "      <td>2020-05-31</td>\n",
       "      <td>-0.528200</td>\n",
       "    </tr>\n",
       "    <tr>\n",
       "      <th>245</th>\n",
       "      <td>PM_ME_YOUR_TUTURUS</td>\n",
       "      <td>Basically incurable trauma from years of child...</td>\n",
       "      <td>comment</td>\n",
       "      <td>2020-05-31</td>\n",
       "      <td>0.040700</td>\n",
       "    </tr>\n",
       "    <tr>\n",
       "      <th>246</th>\n",
       "      <td>PM_ME_YOUR_TUTURUS</td>\n",
       "      <td>You hit the nail on the head here. What is wor...</td>\n",
       "      <td>comment</td>\n",
       "      <td>2020-06-05</td>\n",
       "      <td>-0.462833</td>\n",
       "    </tr>\n",
       "    <tr>\n",
       "      <th>247</th>\n",
       "      <td>PM_ME_YOUR_TUTURUS</td>\n",
       "      <td>I'm glad that post might bring some people com...</td>\n",
       "      <td>comment</td>\n",
       "      <td>2020-06-05</td>\n",
       "      <td>-0.103262</td>\n",
       "    </tr>\n",
       "    <tr>\n",
       "      <th>248</th>\n",
       "      <td>PM_ME_YOUR_TUTURUS</td>\n",
       "      <td>Not in my case, but I know it helps some peopl...</td>\n",
       "      <td>comment</td>\n",
       "      <td>2020-06-12</td>\n",
       "      <td>-0.896650</td>\n",
       "    </tr>\n",
       "    <tr>\n",
       "      <th>249</th>\n",
       "      <td>PM_ME_YOUR_TUTURUS</td>\n",
       "      <td>I feel like sadly this sub is just too big, bu...</td>\n",
       "      <td>comment</td>\n",
       "      <td>2020-06-20</td>\n",
       "      <td>0.181600</td>\n",
       "    </tr>\n",
       "    <tr>\n",
       "      <th>250</th>\n",
       "      <td>PM_ME_YOUR_TUTURUS</td>\n",
       "      <td>Totally agree with you friend. All we can do i...</td>\n",
       "      <td>comment</td>\n",
       "      <td>2020-07-03</td>\n",
       "      <td>0.358900</td>\n",
       "    </tr>\n",
       "    <tr>\n",
       "      <th>251</th>\n",
       "      <td>PM_ME_YOUR_TUTURUS</td>\n",
       "      <td>I think most people sadly just expect you to \"...</td>\n",
       "      <td>comment</td>\n",
       "      <td>2020-07-07</td>\n",
       "      <td>-0.329133</td>\n",
       "    </tr>\n",
       "    <tr>\n",
       "      <th>252</th>\n",
       "      <td>PM_ME_YOUR_TUTURUS</td>\n",
       "      <td>Weed helps me a bit especially when I'm having...</td>\n",
       "      <td>comment</td>\n",
       "      <td>2020-07-07</td>\n",
       "      <td>-0.329833</td>\n",
       "    </tr>\n",
       "    <tr>\n",
       "      <th>253</th>\n",
       "      <td>PM_ME_YOUR_TUTURUS</td>\n",
       "      <td>I moved to the UK, but the state I lived in ha...</td>\n",
       "      <td>comment</td>\n",
       "      <td>2020-07-07</td>\n",
       "      <td>0.055025</td>\n",
       "    </tr>\n",
       "    <tr>\n",
       "      <th>254</th>\n",
       "      <td>PM_ME_YOUR_TUTURUS</td>\n",
       "      <td>Had bad experiences with those type of things ...</td>\n",
       "      <td>comment</td>\n",
       "      <td>2020-07-07</td>\n",
       "      <td>0.196167</td>\n",
       "    </tr>\n",
       "    <tr>\n",
       "      <th>255</th>\n",
       "      <td>PM_ME_YOUR_TUTURUS</td>\n",
       "      <td>I'm only a year older than you, and I've felt ...</td>\n",
       "      <td>comment</td>\n",
       "      <td>2020-07-20</td>\n",
       "      <td>0.375300</td>\n",
       "    </tr>\n",
       "    <tr>\n",
       "      <th>256</th>\n",
       "      <td>PM_ME_YOUR_TUTURUS</td>\n",
       "      <td>fellow alien, I wish there was somewhere that ...</td>\n",
       "      <td>comment</td>\n",
       "      <td>2020-07-21</td>\n",
       "      <td>0.041650</td>\n",
       "    </tr>\n",
       "    <tr>\n",
       "      <th>257</th>\n",
       "      <td>PM_ME_YOUR_TUTURUS</td>\n",
       "      <td>Traumatic experiences early in life can impact...</td>\n",
       "      <td>comment</td>\n",
       "      <td>2020-07-22</td>\n",
       "      <td>-0.509600</td>\n",
       "    </tr>\n",
       "    <tr>\n",
       "      <th>258</th>\n",
       "      <td>PM_ME_YOUR_TUTURUS</td>\n",
       "      <td>Your pain is real, even if beurocrats try to s...</td>\n",
       "      <td>comment</td>\n",
       "      <td>2020-07-25</td>\n",
       "      <td>-0.610233</td>\n",
       "    </tr>\n",
       "    <tr>\n",
       "      <th>259</th>\n",
       "      <td>PM_ME_YOUR_TUTURUS</td>\n",
       "      <td>Sadly that is very true. If you aren't constan...</td>\n",
       "      <td>comment</td>\n",
       "      <td>2020-07-31</td>\n",
       "      <td>0.294300</td>\n",
       "    </tr>\n",
       "    <tr>\n",
       "      <th>260</th>\n",
       "      <td>PM_ME_YOUR_TUTURUS</td>\n",
       "      <td>I have PTSD too. It really is like seeing the ...</td>\n",
       "      <td>comment</td>\n",
       "      <td>2020-08-01</td>\n",
       "      <td>0.208650</td>\n",
       "    </tr>\n",
       "    <tr>\n",
       "      <th>261</th>\n",
       "      <td>PM_ME_YOUR_TUTURUS</td>\n",
       "      <td>You're not wrong. Whenever people say they see...</td>\n",
       "      <td>comment</td>\n",
       "      <td>2020-08-01</td>\n",
       "      <td>0.249460</td>\n",
       "    </tr>\n",
       "    <tr>\n",
       "      <th>262</th>\n",
       "      <td>PM_ME_YOUR_TUTURUS</td>\n",
       "      <td>I was on track to be a great researcher in my ...</td>\n",
       "      <td>comment</td>\n",
       "      <td>2020-08-02</td>\n",
       "      <td>0.098243</td>\n",
       "    </tr>\n",
       "    <tr>\n",
       "      <th>263</th>\n",
       "      <td>PM_ME_YOUR_TUTURUS</td>\n",
       "      <td>You didn't deserve any of that. Fuck those peo...</td>\n",
       "      <td>comment</td>\n",
       "      <td>2020-08-05</td>\n",
       "      <td>0.263350</td>\n",
       "    </tr>\n",
       "    <tr>\n",
       "      <th>264</th>\n",
       "      <td>PM_ME_YOUR_TUTURUS</td>\n",
       "      <td>What horrible people your family are for doing...</td>\n",
       "      <td>comment</td>\n",
       "      <td>2020-08-21</td>\n",
       "      <td>-0.389900</td>\n",
       "    </tr>\n",
       "    <tr>\n",
       "      <th>265</th>\n",
       "      <td>PM_ME_YOUR_TUTURUS</td>\n",
       "      <td>I know how you feel.  Sometimes people don't r...</td>\n",
       "      <td>comment</td>\n",
       "      <td>2020-09-06</td>\n",
       "      <td>0.025875</td>\n",
       "    </tr>\n",
       "    <tr>\n",
       "      <th>266</th>\n",
       "      <td>PM_ME_YOUR_TUTURUS</td>\n",
       "      <td>Felt the same way since I was 10, I'm 21 now. ...</td>\n",
       "      <td>comment</td>\n",
       "      <td>2020-10-05</td>\n",
       "      <td>-0.066529</td>\n",
       "    </tr>\n",
       "    <tr>\n",
       "      <th>267</th>\n",
       "      <td>PM_ME_YOUR_TUTURUS</td>\n",
       "      <td>That doctor's actions towards your girlfriend ...</td>\n",
       "      <td>comment</td>\n",
       "      <td>2020-10-08</td>\n",
       "      <td>-0.514400</td>\n",
       "    </tr>\n",
       "    <tr>\n",
       "      <th>268</th>\n",
       "      <td>PM_ME_YOUR_TUTURUS</td>\n",
       "      <td>I felt similarly when I was younger but now th...</td>\n",
       "      <td>comment</td>\n",
       "      <td>2020-10-13</td>\n",
       "      <td>0.203900</td>\n",
       "    </tr>\n",
       "    <tr>\n",
       "      <th>269</th>\n",
       "      <td>PM_ME_YOUR_TUTURUS</td>\n",
       "      <td>Years and thousands of dollars spent on therap...</td>\n",
       "      <td>comment</td>\n",
       "      <td>2020-10-13</td>\n",
       "      <td>-0.256367</td>\n",
       "    </tr>\n",
       "    <tr>\n",
       "      <th>270</th>\n",
       "      <td>PM_ME_YOUR_TUTURUS</td>\n",
       "      <td>do yoga bro\\n\\nketo diet bro\\n\\nalign ur chakr...</td>\n",
       "      <td>comment</td>\n",
       "      <td>2020-10-13</td>\n",
       "      <td>0.000000</td>\n",
       "    </tr>\n",
       "    <tr>\n",
       "      <th>271</th>\n",
       "      <td>PM_ME_YOUR_TUTURUS</td>\n",
       "      <td>I feel similar to you. I'm 21 and I've tried e...</td>\n",
       "      <td>comment</td>\n",
       "      <td>2020-11-13</td>\n",
       "      <td>-0.413160</td>\n",
       "    </tr>\n",
       "    <tr>\n",
       "      <th>272</th>\n",
       "      <td>PM_ME_YOUR_TUTURUS</td>\n",
       "      <td>You aren't a failure. Just because someone els...</td>\n",
       "      <td>comment</td>\n",
       "      <td>2020-11-21</td>\n",
       "      <td>-0.298300</td>\n",
       "    </tr>\n",
       "    <tr>\n",
       "      <th>273</th>\n",
       "      <td>PM_ME_YOUR_TUTURUS</td>\n",
       "      <td>Yeah i disagree with that comment too, it's ve...</td>\n",
       "      <td>comment</td>\n",
       "      <td>2020-11-27</td>\n",
       "      <td>-0.402867</td>\n",
       "    </tr>\n",
       "    <tr>\n",
       "      <th>274</th>\n",
       "      <td>PM_ME_YOUR_TUTURUS</td>\n",
       "      <td>I have a similar situation to OP,  and I think...</td>\n",
       "      <td>comment</td>\n",
       "      <td>2020-12-05</td>\n",
       "      <td>-0.120000</td>\n",
       "    </tr>\n",
       "    <tr>\n",
       "      <th>275</th>\n",
       "      <td>PM_ME_YOUR_TUTURUS</td>\n",
       "      <td>I'm 21 and I feel similar that life sort of ju...</td>\n",
       "      <td>comment</td>\n",
       "      <td>2020-12-22</td>\n",
       "      <td>-0.146340</td>\n",
       "    </tr>\n",
       "    <tr>\n",
       "      <th>276</th>\n",
       "      <td>PM_ME_YOUR_TUTURUS</td>\n",
       "      <td>This is exactly why I won't have bio kids. Whe...</td>\n",
       "      <td>comment</td>\n",
       "      <td>2020-12-24</td>\n",
       "      <td>0.359200</td>\n",
       "    </tr>\n",
       "    <tr>\n",
       "      <th>277</th>\n",
       "      <td>PM_ME_YOUR_TUTURUS</td>\n",
       "      <td>It sucks when they try to apply those blanket ...</td>\n",
       "      <td>comment</td>\n",
       "      <td>2020-12-24</td>\n",
       "      <td>-0.450780</td>\n",
       "    </tr>\n",
       "    <tr>\n",
       "      <th>278</th>\n",
       "      <td>PM_ME_YOUR_TUTURUS</td>\n",
       "      <td>Well those children already exist so we should...</td>\n",
       "      <td>comment</td>\n",
       "      <td>2020-12-24</td>\n",
       "      <td>0.069183</td>\n",
       "    </tr>\n",
       "    <tr>\n",
       "      <th>279</th>\n",
       "      <td>PM_ME_YOUR_TUTURUS</td>\n",
       "      <td>Studying Neuroscience and I highly agree with ...</td>\n",
       "      <td>comment</td>\n",
       "      <td>2020-12-28</td>\n",
       "      <td>0.010133</td>\n",
       "    </tr>\n",
       "    <tr>\n",
       "      <th>280</th>\n",
       "      <td>PM_ME_YOUR_TUTURUS</td>\n",
       "      <td>So sorry you are struggling too. Eczema is hor...</td>\n",
       "      <td>comment</td>\n",
       "      <td>2021-01-01</td>\n",
       "      <td>-0.533950</td>\n",
       "    </tr>\n",
       "    <tr>\n",
       "      <th>281</th>\n",
       "      <td>PM_ME_YOUR_TUTURUS</td>\n",
       "      <td>I agree with you and don't understand why peop...</td>\n",
       "      <td>comment</td>\n",
       "      <td>2021-01-05</td>\n",
       "      <td>-0.411611</td>\n",
       "    </tr>\n",
       "    <tr>\n",
       "      <th>282</th>\n",
       "      <td>PM_ME_YOUR_TUTURUS</td>\n",
       "      <td>It's like a broken record tbh, I wish people c...</td>\n",
       "      <td>comment</td>\n",
       "      <td>2021-01-08</td>\n",
       "      <td>0.348900</td>\n",
       "    </tr>\n",
       "    <tr>\n",
       "      <th>283</th>\n",
       "      <td>PM_ME_YOUR_TUTURUS</td>\n",
       "      <td>If he's in the psych hospital right now, I don...</td>\n",
       "      <td>comment</td>\n",
       "      <td>2021-01-21</td>\n",
       "      <td>0.280950</td>\n",
       "    </tr>\n",
       "    <tr>\n",
       "      <th>284</th>\n",
       "      <td>PM_ME_YOUR_TUTURUS</td>\n",
       "      <td>Had the same experience. I've also been to ove...</td>\n",
       "      <td>comment</td>\n",
       "      <td>2021-02-19</td>\n",
       "      <td>-0.152256</td>\n",
       "    </tr>\n",
       "    <tr>\n",
       "      <th>285</th>\n",
       "      <td>PM_ME_YOUR_TUTURUS</td>\n",
       "      <td>Well, I have several disabilities that complet...</td>\n",
       "      <td>comment</td>\n",
       "      <td>2021-04-22</td>\n",
       "      <td>-0.359767</td>\n",
       "    </tr>\n",
       "  </tbody>\n",
       "</table>\n",
       "</div>"
      ],
      "text/plain": [
       "                 author                                               body  \\\n",
       "226  PM_ME_YOUR_TUTURUS  How do I find a good one when it's extremely e...   \n",
       "227  PM_ME_YOUR_TUTURUS  my partner and many others have insisted that ...   \n",
       "228  PM_ME_YOUR_TUTURUS  I have a partner as well, and it's actually qu...   \n",
       "229  PM_ME_YOUR_TUTURUS                                          thank you   \n",
       "230  PM_ME_YOUR_TUTURUS  It is hard because doctors are my PTSD trigger...   \n",
       "231  PM_ME_YOUR_TUTURUS  Thank you, I am studying Neuroscience at Unive...   \n",
       "232  PM_ME_YOUR_TUTURUS  I am actually worse off because so much of my ...   \n",
       "233  PM_ME_YOUR_TUTURUS  Growing up in a very religious place, the 'you...   \n",
       "234  PM_ME_YOUR_TUTURUS       Everyday's a quaratine when you're autistic!   \n",
       "235  PM_ME_YOUR_TUTURUS  I feel that. It's incredibly difficult to voic...   \n",
       "236  PM_ME_YOUR_TUTURUS  Saying that depression is just a chemical imba...   \n",
       "237  PM_ME_YOUR_TUTURUS  I feel you friend.\\n\\nAt least during the quar...   \n",
       "238  PM_ME_YOUR_TUTURUS  I moved across the world and still don't feel ...   \n",
       "239  PM_ME_YOUR_TUTURUS  It's honestly a toss up of whether or not they...   \n",
       "240  PM_ME_YOUR_TUTURUS  People think if you don't immediately 'snap ou...   \n",
       "241  PM_ME_YOUR_TUTURUS  Love yourself, so I don't have to love you ins...   \n",
       "242  PM_ME_YOUR_TUTURUS  I was around the same age, about ten and a hal...   \n",
       "243  PM_ME_YOUR_TUTURUS  I know exactly how you feel, I don't have a go...   \n",
       "244  PM_ME_YOUR_TUTURUS  Because it's apparently in-style to charicatur...   \n",
       "245  PM_ME_YOUR_TUTURUS  Basically incurable trauma from years of child...   \n",
       "246  PM_ME_YOUR_TUTURUS  You hit the nail on the head here. What is wor...   \n",
       "247  PM_ME_YOUR_TUTURUS  I'm glad that post might bring some people com...   \n",
       "248  PM_ME_YOUR_TUTURUS  Not in my case, but I know it helps some peopl...   \n",
       "249  PM_ME_YOUR_TUTURUS  I feel like sadly this sub is just too big, bu...   \n",
       "250  PM_ME_YOUR_TUTURUS  Totally agree with you friend. All we can do i...   \n",
       "251  PM_ME_YOUR_TUTURUS  I think most people sadly just expect you to \"...   \n",
       "252  PM_ME_YOUR_TUTURUS  Weed helps me a bit especially when I'm having...   \n",
       "253  PM_ME_YOUR_TUTURUS  I moved to the UK, but the state I lived in ha...   \n",
       "254  PM_ME_YOUR_TUTURUS  Had bad experiences with those type of things ...   \n",
       "255  PM_ME_YOUR_TUTURUS  I'm only a year older than you, and I've felt ...   \n",
       "256  PM_ME_YOUR_TUTURUS  fellow alien, I wish there was somewhere that ...   \n",
       "257  PM_ME_YOUR_TUTURUS  Traumatic experiences early in life can impact...   \n",
       "258  PM_ME_YOUR_TUTURUS  Your pain is real, even if beurocrats try to s...   \n",
       "259  PM_ME_YOUR_TUTURUS  Sadly that is very true. If you aren't constan...   \n",
       "260  PM_ME_YOUR_TUTURUS  I have PTSD too. It really is like seeing the ...   \n",
       "261  PM_ME_YOUR_TUTURUS  You're not wrong. Whenever people say they see...   \n",
       "262  PM_ME_YOUR_TUTURUS  I was on track to be a great researcher in my ...   \n",
       "263  PM_ME_YOUR_TUTURUS  You didn't deserve any of that. Fuck those peo...   \n",
       "264  PM_ME_YOUR_TUTURUS  What horrible people your family are for doing...   \n",
       "265  PM_ME_YOUR_TUTURUS  I know how you feel.  Sometimes people don't r...   \n",
       "266  PM_ME_YOUR_TUTURUS  Felt the same way since I was 10, I'm 21 now. ...   \n",
       "267  PM_ME_YOUR_TUTURUS  That doctor's actions towards your girlfriend ...   \n",
       "268  PM_ME_YOUR_TUTURUS  I felt similarly when I was younger but now th...   \n",
       "269  PM_ME_YOUR_TUTURUS  Years and thousands of dollars spent on therap...   \n",
       "270  PM_ME_YOUR_TUTURUS  do yoga bro\\n\\nketo diet bro\\n\\nalign ur chakr...   \n",
       "271  PM_ME_YOUR_TUTURUS  I feel similar to you. I'm 21 and I've tried e...   \n",
       "272  PM_ME_YOUR_TUTURUS  You aren't a failure. Just because someone els...   \n",
       "273  PM_ME_YOUR_TUTURUS  Yeah i disagree with that comment too, it's ve...   \n",
       "274  PM_ME_YOUR_TUTURUS  I have a similar situation to OP,  and I think...   \n",
       "275  PM_ME_YOUR_TUTURUS  I'm 21 and I feel similar that life sort of ju...   \n",
       "276  PM_ME_YOUR_TUTURUS  This is exactly why I won't have bio kids. Whe...   \n",
       "277  PM_ME_YOUR_TUTURUS  It sucks when they try to apply those blanket ...   \n",
       "278  PM_ME_YOUR_TUTURUS  Well those children already exist so we should...   \n",
       "279  PM_ME_YOUR_TUTURUS  Studying Neuroscience and I highly agree with ...   \n",
       "280  PM_ME_YOUR_TUTURUS  So sorry you are struggling too. Eczema is hor...   \n",
       "281  PM_ME_YOUR_TUTURUS  I agree with you and don't understand why peop...   \n",
       "282  PM_ME_YOUR_TUTURUS  It's like a broken record tbh, I wish people c...   \n",
       "283  PM_ME_YOUR_TUTURUS  If he's in the psych hospital right now, I don...   \n",
       "284  PM_ME_YOUR_TUTURUS  Had the same experience. I've also been to ove...   \n",
       "285  PM_ME_YOUR_TUTURUS  Well, I have several disabilities that complet...   \n",
       "\n",
       "    submission/comments        date  senti_score  \n",
       "226             comment  2019-11-24     0.167750  \n",
       "227             comment  2019-11-24    -0.013000  \n",
       "228             comment  2020-02-06    -0.862900  \n",
       "229             comment  2020-03-08     0.361200  \n",
       "230             comment  2020-03-31    -0.255800  \n",
       "231             comment  2020-03-31    -0.096750  \n",
       "232             comment  2020-03-31    -0.144067  \n",
       "233             comment  2020-03-31    -0.477413  \n",
       "234             comment  2020-04-02     0.000000  \n",
       "235             comment  2020-04-04    -0.010757  \n",
       "236             comment  2020-04-06    -0.294867  \n",
       "237             comment  2020-04-09     0.476350  \n",
       "238             comment  2020-04-13    -0.493600  \n",
       "239             comment  2020-04-14     0.048131  \n",
       "240             comment  2020-04-17    -0.259950  \n",
       "241             comment  2020-04-20     0.305950  \n",
       "242             comment  2020-04-28     0.018867  \n",
       "243             comment  2020-05-19    -0.262833  \n",
       "244             comment  2020-05-31    -0.528200  \n",
       "245             comment  2020-05-31     0.040700  \n",
       "246             comment  2020-06-05    -0.462833  \n",
       "247             comment  2020-06-05    -0.103262  \n",
       "248             comment  2020-06-12    -0.896650  \n",
       "249             comment  2020-06-20     0.181600  \n",
       "250             comment  2020-07-03     0.358900  \n",
       "251             comment  2020-07-07    -0.329133  \n",
       "252             comment  2020-07-07    -0.329833  \n",
       "253             comment  2020-07-07     0.055025  \n",
       "254             comment  2020-07-07     0.196167  \n",
       "255             comment  2020-07-20     0.375300  \n",
       "256             comment  2020-07-21     0.041650  \n",
       "257             comment  2020-07-22    -0.509600  \n",
       "258             comment  2020-07-25    -0.610233  \n",
       "259             comment  2020-07-31     0.294300  \n",
       "260             comment  2020-08-01     0.208650  \n",
       "261             comment  2020-08-01     0.249460  \n",
       "262             comment  2020-08-02     0.098243  \n",
       "263             comment  2020-08-05     0.263350  \n",
       "264             comment  2020-08-21    -0.389900  \n",
       "265             comment  2020-09-06     0.025875  \n",
       "266             comment  2020-10-05    -0.066529  \n",
       "267             comment  2020-10-08    -0.514400  \n",
       "268             comment  2020-10-13     0.203900  \n",
       "269             comment  2020-10-13    -0.256367  \n",
       "270             comment  2020-10-13     0.000000  \n",
       "271             comment  2020-11-13    -0.413160  \n",
       "272             comment  2020-11-21    -0.298300  \n",
       "273             comment  2020-11-27    -0.402867  \n",
       "274             comment  2020-12-05    -0.120000  \n",
       "275             comment  2020-12-22    -0.146340  \n",
       "276             comment  2020-12-24     0.359200  \n",
       "277             comment  2020-12-24    -0.450780  \n",
       "278             comment  2020-12-24     0.069183  \n",
       "279             comment  2020-12-28     0.010133  \n",
       "280             comment  2021-01-01    -0.533950  \n",
       "281             comment  2021-01-05    -0.411611  \n",
       "282             comment  2021-01-08     0.348900  \n",
       "283             comment  2021-01-21     0.280950  \n",
       "284             comment  2021-02-19    -0.152256  \n",
       "285             comment  2021-04-22    -0.359767  "
      ]
     },
     "execution_count": 174,
     "metadata": {},
     "output_type": "execute_result"
    }
   ],
   "source": [
    "# select a user and plot their data\n",
    "\n",
    "random_user_c = df_comments[226:286]\n",
    "random_user_c"
   ]
  },
  {
   "cell_type": "code",
   "execution_count": 178,
   "metadata": {},
   "outputs": [
    {
     "data": {
      "text/plain": [
       "'my partner and many others have insisted that I am nuts for doing research and trying to \"prove that I know more than a doctor, when I don\\'t\". They spend a grand total of 5 minutes with you, they honestly don\\'t give a damn about finding the problem in my case, so I found it necessary to do research so I could try to figure out what could be going on, as I kept begging for them to help me. My last doctor didn\\'t even call me about my blood work. I had to analyze it myself. I\\'ve spent 6 hours trapped in the emergency room in excruciating pain only for the doctor to brush me off, order a pregnancy test without my consent, conduct no further testing, and send me home with no answers.  \\n\\n\\nI figured out I had autism and had to push the doctors in the right direction for testing. After years of feeling like I was broken and something was just \"off\" about me. The only teacher I spoke to regularly in high school was shocked that I had not been given a diagnosis for autism despite being in the mental health system for YEARS.  \\n\\n\\nThe good thing I\\'ve gotten out of it is after many unsuccessful attempts I\\'m on a medication that has improved my condition. You really have to advocate for yourself though. It took years of telling them SSRI\\'s had no effect on me before I could get a prescription for something that DID help.'"
      ]
     },
     "execution_count": 178,
     "metadata": {},
     "output_type": "execute_result"
    }
   ],
   "source": [
    "random_user_c['body'][227]"
   ]
  },
  {
   "cell_type": "code",
   "execution_count": 173,
   "metadata": {},
   "outputs": [
    {
     "data": {
      "image/png": "[encoded data removed]",
      "text/plain": [
       "<Figure size 1440x648 with 1 Axes>"
      ]
     },
     "metadata": {
      "needs_background": "light"
     },
     "output_type": "display_data"
    }
   ],
   "source": [
    "# time_series_plot(data=random_user,user_name='PM_ME_YOUR_TUTURUS')\n",
    "\n",
    "fig, ax = plt.subplots(figsize=(20,9))\n",
    "\n",
    "# comments\n",
    "ax.plot(random_user_c['date'],\n",
    "        random_user_c['senti_score'],\n",
    "        label = 'comments',\n",
    "        color = 'purple')\n",
    "\n",
    "#     submissions\n",
    "#     ax.plot(random_user_s['date'],\n",
    "#             random_user_s['senti_score'],\n",
    "#             label = 'submissions',\n",
    "#             color='orangered')\n",
    "\n",
    "ax.axhline(0, color='k', linestyle='-', linewidth=1)\n",
    "\n",
    "ax.set(xlabel='time',\n",
    "       ylabel='sentiment score',\n",
    "       title='sentiment score over time, user: PM_ME_YOUR_TUTURUS')\n",
    "\n",
    "plt.legend(loc='upper left')\n",
    "ax.grid(True)\n",
    "plt.savefig('sentiment score over time--comments.png')\n",
    "plt.xticks(rotation = 45)\n",
    "plt.show()"
   ]
  },
  {
   "cell_type": "code",
   "execution_count": 125,
   "metadata": {},
   "outputs": [],
   "source": [
    "# comments are more positive over time than submissions because the senti score is often above 0"
   ]
  },
  {
   "cell_type": "code",
   "execution_count": 180,
   "metadata": {},
   "outputs": [
    {
     "name": "stdout",
     "output_type": "stream",
     "text": [
      "positive: 27, negative: 33\n"
     ]
    }
   ],
   "source": [
    "pos_comment = []\n",
    "neg_comment = []\n",
    "\n",
    "for score in random_user_c['senti_score']:\n",
    "    if score >= 0:\n",
    "        pos_comment.append(score)\n",
    "        \n",
    "    else:\n",
    "        neg_comment.append(score)\n",
    "        \n",
    "print(f'positive: {len(pos_comment)}, negative: {len(neg_comment)}')"
   ]
  },
  {
   "cell_type": "code",
   "execution_count": null,
   "metadata": {},
   "outputs": [],
   "source": []
  }
 ],
 "metadata": {
  "kernelspec": {
   "display_name": "Python 3",
   "language": "python",
   "name": "python3"
  },
  "language_info": {
   "codemirror_mode": {
    "name": "ipython",
    "version": 3
   },
   "file_extension": ".py",
   "mimetype": "text/x-python",
   "name": "python",
   "nbconvert_exporter": "python",
   "pygments_lexer": "ipython3",
   "version": "3.8.5"
  }
 },
 "nbformat": 4,
 "nbformat_minor": 5
}
